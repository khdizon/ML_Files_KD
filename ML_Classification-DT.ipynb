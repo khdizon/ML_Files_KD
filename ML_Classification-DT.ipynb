{
 "cells": [
  {
   "cell_type": "markdown",
   "id": "ab262adb-de7f-4cb8-bbf9-dac46c8c2771",
   "metadata": {
    "tags": []
   },
   "source": [
    "# ML Classification`DT` Startup File\n",
    "\n",
    "Version  | Date | Author | Notes |\n",
    ":-------:|:----:|:-------|:-----:|\n",
    "0.1 |20 July 2023| Ken Dizon | Initial version\n",
    "\n",
    "**Objective**\n",
    "\n",
    "Write a startup ML script for Classification using Decision Trees.\n",
    "\n",
    "### Algorithms\n",
    "Classification | \n",
    ":---------:|\n",
    "DT, naive bayes, KNN, logistic, NN, SVM |\n",
    "______________________\n",
    "#### Content\n",
    "1. **Load data**\n",
    "    * 1.1 Data Exploration\n",
    "2. **Data Preprocessing**\n",
    "    * 2.1 Cleaning\n",
    "    * 2.2 Missing Data\n",
    "    * 2.3 Scaling\n",
    "3. **Split - Test & Train**\n",
    "4. **Model Selection**\n",
    "5. **Model Training**\n",
    "5. **Model Evaluation**\n",
    "\n",
    "### Libraries"
   ]
  },
  {
   "cell_type": "code",
   "execution_count": 33,
   "id": "4e28ce9e-91b0-4e04-8c3e-69fb7ab7450d",
   "metadata": {},
   "outputs": [
    {
     "name": "stdout",
     "output_type": "stream",
     "text": [
      "https://scikit-learn.org/stable/\n",
      "Libraries imported successfully!\n"
     ]
    }
   ],
   "source": [
    "try:\n",
    "    import numpy as np #math library \n",
    "    import scipy #computation\n",
    "    import matplotlib.pyplot as plt #visualization\n",
    "    %matplotlib inline\n",
    "    import pandas as pd #dataframes\n",
    "    import sklearn #algorithims\n",
    "    from sklearn import preprocessing\n",
    "    from sklearn.model_selection import train_test_split\n",
    "    from sklearn import metrics \n",
    "    '''machine learning library'''\n",
    "    from sklearn.tree import DecisionTreeClassifier #DT\n",
    "    import sklearn.tree as tree\n",
    "    \n",
    "    print('https://scikit-learn.org/stable/')\n",
    "    print(\"Libraries imported successfully!\")\n",
    "except ImportError:\n",
    "    print(\"Libraries not installed. Please install it to use this library.\")"
   ]
  },
  {
   "cell_type": "markdown",
   "id": "332e641a-e434-435d-9e1e-def3df28f17d",
   "metadata": {},
   "source": [
    "_________\n",
    "# [1] Load Data"
   ]
  },
  {
   "cell_type": "code",
   "execution_count": 2,
   "id": "d832f28b-0e5d-4007-ba4e-23abb4740ffa",
   "metadata": {},
   "outputs": [],
   "source": [
    "filepath = 'https://cf-courses-data.s3.us.cloud-object-storage.appdomain.cloud/IBMDeveloperSkillsNetwork-ML0101EN-SkillsNetwork/labs/Module%203/data/drug200.csv'"
   ]
  },
  {
   "cell_type": "code",
   "execution_count": 3,
   "id": "4112add4-494e-4c6f-a9d9-3f09bf206d9c",
   "metadata": {},
   "outputs": [
    {
     "name": "stdout",
     "output_type": "stream",
     "text": [
      "Data imported successfully!\n"
     ]
    },
    {
     "data": {
      "text/html": [
       "<div>\n",
       "<style scoped>\n",
       "    .dataframe tbody tr th:only-of-type {\n",
       "        vertical-align: middle;\n",
       "    }\n",
       "\n",
       "    .dataframe tbody tr th {\n",
       "        vertical-align: top;\n",
       "    }\n",
       "\n",
       "    .dataframe thead th {\n",
       "        text-align: right;\n",
       "    }\n",
       "</style>\n",
       "<table border=\"1\" class=\"dataframe\">\n",
       "  <thead>\n",
       "    <tr style=\"text-align: right;\">\n",
       "      <th></th>\n",
       "      <th>Age</th>\n",
       "      <th>Sex</th>\n",
       "      <th>BP</th>\n",
       "      <th>Cholesterol</th>\n",
       "      <th>Na_to_K</th>\n",
       "      <th>Drug</th>\n",
       "    </tr>\n",
       "  </thead>\n",
       "  <tbody>\n",
       "    <tr>\n",
       "      <th>0</th>\n",
       "      <td>23</td>\n",
       "      <td>F</td>\n",
       "      <td>HIGH</td>\n",
       "      <td>HIGH</td>\n",
       "      <td>25.355</td>\n",
       "      <td>drugY</td>\n",
       "    </tr>\n",
       "    <tr>\n",
       "      <th>1</th>\n",
       "      <td>47</td>\n",
       "      <td>M</td>\n",
       "      <td>LOW</td>\n",
       "      <td>HIGH</td>\n",
       "      <td>13.093</td>\n",
       "      <td>drugC</td>\n",
       "    </tr>\n",
       "    <tr>\n",
       "      <th>2</th>\n",
       "      <td>47</td>\n",
       "      <td>M</td>\n",
       "      <td>LOW</td>\n",
       "      <td>HIGH</td>\n",
       "      <td>10.114</td>\n",
       "      <td>drugC</td>\n",
       "    </tr>\n",
       "    <tr>\n",
       "      <th>3</th>\n",
       "      <td>28</td>\n",
       "      <td>F</td>\n",
       "      <td>NORMAL</td>\n",
       "      <td>HIGH</td>\n",
       "      <td>7.798</td>\n",
       "      <td>drugX</td>\n",
       "    </tr>\n",
       "    <tr>\n",
       "      <th>4</th>\n",
       "      <td>61</td>\n",
       "      <td>F</td>\n",
       "      <td>LOW</td>\n",
       "      <td>HIGH</td>\n",
       "      <td>18.043</td>\n",
       "      <td>drugY</td>\n",
       "    </tr>\n",
       "  </tbody>\n",
       "</table>\n",
       "</div>"
      ],
      "text/plain": [
       "   Age Sex      BP Cholesterol  Na_to_K   Drug\n",
       "0   23   F    HIGH        HIGH   25.355  drugY\n",
       "1   47   M     LOW        HIGH   13.093  drugC\n",
       "2   47   M     LOW        HIGH   10.114  drugC\n",
       "3   28   F  NORMAL        HIGH    7.798  drugX\n",
       "4   61   F     LOW        HIGH   18.043  drugY"
      ]
     },
     "execution_count": 3,
     "metadata": {},
     "output_type": "execute_result"
    }
   ],
   "source": [
    "# Load\n",
    "try:\n",
    "    df = pd.read_csv(filepath)\n",
    "    print(\"Data imported successfully!\")\n",
    "except ImportError:\n",
    "    print(\"Data not installed. Please Load Data.\")\n",
    "# take a look at the dataset\n",
    "df.head()"
   ]
  },
  {
   "cell_type": "markdown",
   "id": "70860bcb-891a-4177-95ad-7f9b45ebc06e",
   "metadata": {},
   "source": [
    "## 1.1 Data Exploration"
   ]
  },
  {
   "cell_type": "code",
   "execution_count": 4,
   "id": "ef9f1a0e-a553-4b91-a5f4-0470c3cbcbc0",
   "metadata": {},
   "outputs": [
    {
     "data": {
      "text/plain": [
       "(200, 6)"
      ]
     },
     "execution_count": 4,
     "metadata": {},
     "output_type": "execute_result"
    }
   ],
   "source": [
    "df.shape"
   ]
  },
  {
   "cell_type": "code",
   "execution_count": 5,
   "id": "2aea0d0c-d4f3-4427-8ca2-40342f6aeb52",
   "metadata": {},
   "outputs": [
    {
     "data": {
      "text/plain": [
       "Index(['Age', 'Sex', 'BP', 'Cholesterol', 'Na_to_K', 'Drug'], dtype='object')"
      ]
     },
     "execution_count": 5,
     "metadata": {},
     "output_type": "execute_result"
    }
   ],
   "source": [
    "df.columns"
   ]
  },
  {
   "cell_type": "code",
   "execution_count": 15,
   "id": "32edafca-42fb-4945-b7fd-c4997fe2a385",
   "metadata": {},
   "outputs": [
    {
     "data": {
      "text/plain": [
       "array([[<AxesSubplot:title={'center':'Age'}>,\n",
       "        <AxesSubplot:title={'center':'Na_to_K'}>]], dtype=object)"
      ]
     },
     "execution_count": 15,
     "metadata": {},
     "output_type": "execute_result"
    },
    {
     "data": {
      "image/png": "[encoded data removed]",
      "text/plain": [
       "<Figure size 432x288 with 2 Axes>"
      ]
     },
     "metadata": {
      "needs_background": "light"
     },
     "output_type": "display_data"
    }
   ],
   "source": [
    "df.hist()"
   ]
  },
  {
   "cell_type": "code",
   "execution_count": 6,
   "id": "ae5eb583-c7c6-4299-aa91-ff398d2f8812",
   "metadata": {},
   "outputs": [
    {
     "name": "stdout",
     "output_type": "stream",
     "text": [
      "<class 'pandas.core.frame.DataFrame'>\n",
      "RangeIndex: 200 entries, 0 to 199\n",
      "Data columns (total 6 columns):\n",
      " #   Column       Non-Null Count  Dtype  \n",
      "---  ------       --------------  -----  \n",
      " 0   Age          200 non-null    int64  \n",
      " 1   Sex          200 non-null    object \n",
      " 2   BP           200 non-null    object \n",
      " 3   Cholesterol  200 non-null    object \n",
      " 4   Na_to_K      200 non-null    float64\n",
      " 5   Drug         200 non-null    object \n",
      "dtypes: float64(1), int64(1), object(4)\n",
      "memory usage: 9.5+ KB\n"
     ]
    }
   ],
   "source": [
    "df.info()"
   ]
  },
  {
   "cell_type": "markdown",
   "id": "42553ec5-0fe9-4a8f-9723-bcd0ad00f108",
   "metadata": {},
   "source": [
    "**scikit-learn library, we have to convert the Pandas data frame to a Numpy array:**"
   ]
  },
  {
   "cell_type": "markdown",
   "id": "df750e5f-d905-49fe-a3d1-dd8b667080fc",
   "metadata": {},
   "source": [
    "_____\n",
    "# [2] Data Preprocessing \n",
    "**NOTE:** As this is already a refined dataset we skip steps\n",
    "- Cleaning\n",
    "- Missing data\n",
    "- Scaling"
   ]
  },
  {
   "cell_type": "code",
   "execution_count": 8,
   "id": "483b527e-3dc4-43a9-9019-44abfcb2b708",
   "metadata": {},
   "outputs": [
    {
     "data": {
      "text/plain": [
       "array([[23, 'F', 'HIGH', 'HIGH', 25.355],\n",
       "       [47, 'M', 'LOW', 'HIGH', 13.093],\n",
       "       [47, 'M', 'LOW', 'HIGH', 10.114],\n",
       "       [28, 'F', 'NORMAL', 'HIGH', 7.798],\n",
       "       [61, 'F', 'LOW', 'HIGH', 18.043]], dtype=object)"
      ]
     },
     "execution_count": 8,
     "metadata": {},
     "output_type": "execute_result"
    }
   ],
   "source": [
    "# Remove the column containing the target name since it doesn't contain numeric values.\n",
    "# Set 'x' features\n",
    "X = df[['Age', 'Sex', 'BP', 'Cholesterol', 'Na_to_K']].values\n",
    "X[0:5]"
   ]
  },
  {
   "cell_type": "markdown",
   "id": "e441308b-8954-40d3-8172-6bcaccf895f2",
   "metadata": {},
   "source": [
    "Features in this dataset are categorical, such as `Sex` or `BP`. \n",
    "- Sklearn Decision Trees does not handle categorical variables. We can still convert these features to numerical values using **pandas.get_dummies()** to convert the categorical variable into dummy/indicator variables."
   ]
  },
  {
   "cell_type": "code",
   "execution_count": 10,
   "id": "471f429f-b612-43bc-84da-ac4db33b7339",
   "metadata": {},
   "outputs": [
    {
     "data": {
      "text/plain": [
       "array([[23, 0, 0, 0, 25.355],\n",
       "       [47, 1, 1, 0, 13.093],\n",
       "       [47, 1, 1, 0, 10.114],\n",
       "       [28, 0, 2, 0, 7.798],\n",
       "       [61, 0, 1, 0, 18.043]], dtype=object)"
      ]
     },
     "execution_count": 10,
     "metadata": {},
     "output_type": "execute_result"
    }
   ],
   "source": [
    "from sklearn import preprocessing\n",
    "le_sex = preprocessing.LabelEncoder()\n",
    "le_sex.fit(['F','M'])\n",
    "X[:,1] = le_sex.transform(X[:,1]) \n",
    "\n",
    "le_BP = preprocessing.LabelEncoder()\n",
    "le_BP.fit([ 'LOW', 'NORMAL', 'HIGH'])\n",
    "X[:,2] = le_BP.transform(X[:,2])\n",
    "\n",
    "le_Chol = preprocessing.LabelEncoder()\n",
    "le_Chol.fit([ 'NORMAL', 'HIGH'])\n",
    "X[:,3] = le_Chol.transform(X[:,3]) \n",
    "\n",
    "X[0:5]"
   ]
  },
  {
   "cell_type": "code",
   "execution_count": 11,
   "id": "65d0bcc9-a378-46da-b67e-6f20cca005f6",
   "metadata": {},
   "outputs": [
    {
     "data": {
      "text/plain": [
       "0    drugY\n",
       "1    drugC\n",
       "2    drugC\n",
       "3    drugX\n",
       "4    drugY\n",
       "Name: Drug, dtype: object"
      ]
     },
     "execution_count": 11,
     "metadata": {},
     "output_type": "execute_result"
    }
   ],
   "source": [
    "# Target - y\n",
    "y = df[\"Drug\"]\n",
    "y[0:5]"
   ]
  },
  {
   "cell_type": "markdown",
   "id": "9a14e3f3-2923-4504-a9cc-6ce0037abe79",
   "metadata": {},
   "source": [
    "# [3] Creating train and test dataset\n"
   ]
  },
  {
   "cell_type": "code",
   "execution_count": 16,
   "id": "119cc7e2-0093-4a76-919f-f9556370e8b2",
   "metadata": {},
   "outputs": [],
   "source": [
    "from sklearn.model_selection import train_test_split"
   ]
  },
  {
   "cell_type": "markdown",
   "id": "2597b4ed-b202-4040-9aa7-c8eb64926d84",
   "metadata": {},
   "source": [
    "- `train_test_split` will return 4 different parameters named:\n",
    "    - X_trainset, X_testset, y_trainset, y_testset\n",
    "- train_test_split will need the parameters:\n",
    "    - `X, y,` are the arrays required before the split\n",
    "    - `test_size=0.3` represents the ratio of the testing dataset\n",
    "    - `random_state=3` random_state ensures that we obtain the same splits"
   ]
  },
  {
   "cell_type": "code",
   "execution_count": 18,
   "id": "2c5787ce-aa5d-4a3d-8924-241a197dec1f",
   "metadata": {},
   "outputs": [],
   "source": [
    "X_trainset, X_testset, y_trainset, y_testset = train_test_split(X, y,\n",
    "                                                                test_size=0.3,\n",
    "                                                                random_state=3)"
   ]
  },
  {
   "cell_type": "code",
   "execution_count": 25,
   "id": "d331641d-f87b-4774-a166-a21ad8274b24",
   "metadata": {},
   "outputs": [
    {
     "name": "stdout",
     "output_type": "stream",
     "text": [
      "Shape of X training set (140, 5) \n",
      "Size of Y training set (140,)\n",
      "\n",
      "Shape of X test set (60, 5) \n",
      "Size of Y test set (60,)\n"
     ]
    }
   ],
   "source": [
    "print('Shape of X training set {}'.format(X_trainset.shape),\n",
    "      '\\nSize of Y training set {}\\n'.format(y_trainset.shape))\n",
    "print('Shape of X test set {}'.format(X_testset.shape),\n",
    "      '\\nSize of Y test set {}'.format(y_testset.shape))"
   ]
  },
  {
   "cell_type": "markdown",
   "id": "6cbe89f3-db23-42b5-b578-549e659d6042",
   "metadata": {},
   "source": [
    "_______\n",
    "# [4] Model Selection\n",
    "\n",
    "### Decision Trees\n",
    "A decision tree can be constructed by considering the attributes one by one. \n",
    "1. choose an attribute from our dataset\n",
    "2. calculate the significance of the attribute to see if it's an effective attribute or not for splitting of the data.\n",
    "    - more predictiveness\n",
    "    - less impurity\n",
    "    - lower entropy\n",
    "3. split the data based on the value of the best attribute\n",
    "4. go to each branch and repeat it for the rest of the attributes"
   ]
  },
  {
   "cell_type": "code",
   "execution_count": 27,
   "id": "bba4a531-9b30-4f0d-95fa-38ee88b74949",
   "metadata": {},
   "outputs": [
    {
     "data": {
      "text/plain": [
       "DecisionTreeClassifier(criterion='entropy', max_depth=4)"
      ]
     },
     "execution_count": 27,
     "metadata": {},
     "output_type": "execute_result"
    }
   ],
   "source": [
    "#The entropy in a node is the amount of information disorder calculated in each node\n",
    "\n",
    "# create an instance of the DecisionTreeClassifier called drugTree\n",
    "drugTree = DecisionTreeClassifier(criterion=\"entropy\", \n",
    "                                  max_depth = 4)\n",
    "#specify criterion=\"entropy\" so we can see the information gain of each node.\n",
    "drugTree # it shows the default parameters"
   ]
  },
  {
   "cell_type": "markdown",
   "id": "cfa28ab8-c189-4365-b56f-52c8b00844f4",
   "metadata": {},
   "source": [
    "_______\n",
    "# [5] Model Training"
   ]
  },
  {
   "cell_type": "code",
   "execution_count": 29,
   "id": "c1ada6fd-ac92-4f7e-b00b-39b67a5e3e46",
   "metadata": {},
   "outputs": [
    {
     "data": {
      "text/plain": [
       "DecisionTreeClassifier(criterion='entropy', max_depth=4)"
      ]
     },
     "execution_count": 29,
     "metadata": {},
     "output_type": "execute_result"
    }
   ],
   "source": [
    "#fit the data with the training feature matrix X_trainset and training response vector y_trainset\n",
    "drugTree.fit(X_trainset,y_trainset)"
   ]
  },
  {
   "cell_type": "code",
   "execution_count": 30,
   "id": "5950e955-9d00-43e5-9cdd-65cae4c949e2",
   "metadata": {},
   "outputs": [],
   "source": [
    "# prediction\n",
    "predTree = drugTree.predict(X_testset)"
   ]
  },
  {
   "cell_type": "code",
   "execution_count": 31,
   "id": "318ea7e3-cae7-4884-94f9-6ba2fcf7415c",
   "metadata": {},
   "outputs": [
    {
     "name": "stdout",
     "output_type": "stream",
     "text": [
      "['drugY' 'drugX' 'drugX' 'drugX' 'drugX']\n",
      "40     drugY\n",
      "51     drugX\n",
      "139    drugX\n",
      "197    drugX\n",
      "170    drugX\n",
      "Name: Drug, dtype: object\n"
     ]
    }
   ],
   "source": [
    "print (predTree [0:5])\n",
    "print (y_testset [0:5])\n"
   ]
  },
  {
   "cell_type": "markdown",
   "id": "aba2ec4d-7512-492f-a4ca-c942136ac25a",
   "metadata": {},
   "source": [
    "____\n",
    "# [6] Model Evaluation"
   ]
  },
  {
   "cell_type": "code",
   "execution_count": 34,
   "id": "0982a085-1ca2-4e8a-90bf-cc4068e03f89",
   "metadata": {},
   "outputs": [
    {
     "name": "stdout",
     "output_type": "stream",
     "text": [
      "DecisionTrees's Accuracy:  0.9833333333333333\n"
     ]
    }
   ],
   "source": [
    "print(\"DecisionTrees's Accuracy: \", metrics.accuracy_score(y_testset, predTree))"
   ]
  },
  {
   "cell_type": "markdown",
   "id": "f907ddb2-748d-43b1-88f8-7088c2f7f63e",
   "metadata": {},
   "source": [
    "_____\n",
    "# Visualize Decision Tree"
   ]
  },
  {
   "cell_type": "code",
   "execution_count": 36,
   "id": "dc3fcfe1-e6f9-4222-8249-4b456e1c266f",
   "metadata": {},
   "outputs": [
    {
     "data": {
      "image/png": "[encoded data removed]",
      "text/plain": [
       "<Figure size 720x432 with 1 Axes>"
      ]
     },
     "metadata": {
      "needs_background": "light"
     },
     "output_type": "display_data"
    }
   ],
   "source": [
    "# Set the figure size\n",
    "plt.figure(figsize=(10, 6)) \n",
    "\n",
    "tree.plot_tree(drugTree)\n",
    "plt.show()"
   ]
  }
 ],
 "metadata": {
  "kernelspec": {
   "display_name": "Python 3 (ipykernel)",
   "language": "python",
   "name": "python3"
  },
  "language_info": {
   "codemirror_mode": {
    "name": "ipython",
    "version": 3
   },
   "file_extension": ".py",
   "mimetype": "text/x-python",
   "name": "python",
   "nbconvert_exporter": "python",
   "pygments_lexer": "ipython3",
   "version": "3.8.8"
  }
 },
 "nbformat": 4,
 "nbformat_minor": 5
}
