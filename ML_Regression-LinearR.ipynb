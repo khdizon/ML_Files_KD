{
 "cells": [
  {
   "cell_type": "markdown",
   "id": "ab262adb-de7f-4cb8-bbf9-dac46c8c2771",
   "metadata": {
    "tags": []
   },
   "source": [
    "# Machine Learning `Linear` Regression Startup File\n",
    "\n",
    "Version  | Date | Author | Notes |\n",
    ":-------:|:----:|:-------|:-----:|\n",
    "0.1 |20 July 2023| Ken Dizon | Initial version\n",
    "1.0 |28 July 2023| Ken Dizon | Alpha\n",
    "\n",
    "\n",
    "**Objective** Write a startup ML script `Linear` for Regression. The aim is to predict continuous values and plot a best-fit line/curve between the data of x and y. \n",
    "\n",
    "### Linear Regression\n",
    "- Simple: influence of X to predict a continuous numeric Y value\n",
    "- Multiple: influence of Xs to predict a continuous numeric Y value\n",
    "\n",
    "______________________\n",
    "#### Content\n",
    "1. **Load data**\n",
    "    * 1.1 Data Exploration\n",
    "2. **Data Preprocessing**\n",
    "    * 2.1 Cleaning\n",
    "    * 2.2 Missing Data\n",
    "    * 2.3 Scaling\n",
    "3. **Split - Test & Train**\n",
    "4. **Model Selection**\n",
    "5. **Model Training**\n",
    "5. **Model Evaluation**\n",
    "\n",
    "### Libraries"
   ]
  },
  {
   "cell_type": "code",
   "execution_count": 30,
   "id": "4e28ce9e-91b0-4e04-8c3e-69fb7ab7450d",
   "metadata": {},
   "outputs": [
    {
     "name": "stdout",
     "output_type": "stream",
     "text": [
      "https://scikit-learn.org/stable/\n",
      "Libraries imported successfully!\n"
     ]
    }
   ],
   "source": [
    "## standard Data Science\n",
    "try:\n",
    "    import numpy as np #math library\n",
    "    import scipy #computation\n",
    "    import scipy.optimize as opt\n",
    "    import matplotlib.pyplot as plt #visualization\n",
    "    %matplotlib inline\n",
    "    import pandas as pd #dataframes\n",
    "    '''Machine Learning''' \n",
    "    # standard libraries\n",
    "    import sklearn\n",
    "    from sklearn import preprocessing # standardization of dataset\n",
    "    from sklearn.model_selection import train_test_split # Split our data \n",
    "    from sklearn import metrics # standard evaluation\n",
    "    '''machine learning library'''\n",
    "    # Algorithim Linear\n",
    "    from sklearn import linear_model\n",
    "    # Metric\n",
    "    from sklearn.metrics import (mean_absolute_error, # np.mean(np.absolute(predictions - y_test))\n",
    "                                 mean_squared_error, # np.mean((predictions - y_test) ** 2)\n",
    "                                 r2_score) # r2_score(y_test, predictions)\n",
    "\n",
    "    \n",
    "    print('https://scikit-learn.org/stable/')\n",
    "    print(\"Libraries imported successfully!\")\n",
    "except ImportError:\n",
    "    print(\"Libraries not installed. Please install it to use this library.\")"
   ]
  },
  {
   "cell_type": "markdown",
   "id": "332e641a-e434-435d-9e1e-def3df28f17d",
   "metadata": {},
   "source": [
    "_________\n",
    "# [1] Load Data"
   ]
  },
  {
   "cell_type": "code",
   "execution_count": 2,
   "id": "b968b3fb-380a-459c-94a5-4b8eb485bb9e",
   "metadata": {},
   "outputs": [],
   "source": [
    "filepath = 'https://cf-courses-data.s3.us.cloud-object-storage.appdomain.cloud/IBMDeveloperSkillsNetwork-ML0101EN-SkillsNetwork/labs/Module%202/data/FuelConsumptionCo2.csv'"
   ]
  },
  {
   "cell_type": "markdown",
   "id": "e1dff060-dd42-4ae0-a144-b9a24bfaece5",
   "metadata": {},
   "source": [
    "### `FuelConsumption.csv`:\n",
    "We have downloaded a fuel consumption dataset, **`FuelConsumption.csv`**, which contains model-specific fuel consumption ratings and estimated carbon dioxide emissions for new light-duty vehicles for retail sale in Canada. [Dataset source](http://open.canada.ca/data/en/dataset/98f1a129-f628-4ce4-b24d-6f16bf24dd64?utm_medium=Exinfluencer&utm_source=Exinfluencer&utm_content=000026UJ&utm_term=10006555&utm_id=NA-SkillsNetwork-Channel-SkillsNetworkCoursesIBMDeveloperSkillsNetworkML0101ENSkillsNetwork1047-2023-01-01)"
   ]
  },
  {
   "cell_type": "code",
   "execution_count": 3,
   "id": "4112add4-494e-4c6f-a9d9-3f09bf206d9c",
   "metadata": {},
   "outputs": [
    {
     "name": "stdout",
     "output_type": "stream",
     "text": [
      "Data imported successfully!\n"
     ]
    },
    {
     "data": {
      "text/html": [
       "<div>\n",
       "<style scoped>\n",
       "    .dataframe tbody tr th:only-of-type {\n",
       "        vertical-align: middle;\n",
       "    }\n",
       "\n",
       "    .dataframe tbody tr th {\n",
       "        vertical-align: top;\n",
       "    }\n",
       "\n",
       "    .dataframe thead th {\n",
       "        text-align: right;\n",
       "    }\n",
       "</style>\n",
       "<table border=\"1\" class=\"dataframe\">\n",
       "  <thead>\n",
       "    <tr style=\"text-align: right;\">\n",
       "      <th></th>\n",
       "      <th>MODELYEAR</th>\n",
       "      <th>MAKE</th>\n",
       "      <th>MODEL</th>\n",
       "      <th>VEHICLECLASS</th>\n",
       "      <th>ENGINESIZE</th>\n",
       "      <th>CYLINDERS</th>\n",
       "      <th>TRANSMISSION</th>\n",
       "      <th>FUELTYPE</th>\n",
       "      <th>FUELCONSUMPTION_CITY</th>\n",
       "      <th>FUELCONSUMPTION_HWY</th>\n",
       "      <th>FUELCONSUMPTION_COMB</th>\n",
       "      <th>FUELCONSUMPTION_COMB_MPG</th>\n",
       "      <th>CO2EMISSIONS</th>\n",
       "    </tr>\n",
       "  </thead>\n",
       "  <tbody>\n",
       "    <tr>\n",
       "      <th>0</th>\n",
       "      <td>2014</td>\n",
       "      <td>ACURA</td>\n",
       "      <td>ILX</td>\n",
       "      <td>COMPACT</td>\n",
       "      <td>2.0</td>\n",
       "      <td>4</td>\n",
       "      <td>AS5</td>\n",
       "      <td>Z</td>\n",
       "      <td>9.9</td>\n",
       "      <td>6.7</td>\n",
       "      <td>8.5</td>\n",
       "      <td>33</td>\n",
       "      <td>196</td>\n",
       "    </tr>\n",
       "    <tr>\n",
       "      <th>1</th>\n",
       "      <td>2014</td>\n",
       "      <td>ACURA</td>\n",
       "      <td>ILX</td>\n",
       "      <td>COMPACT</td>\n",
       "      <td>2.4</td>\n",
       "      <td>4</td>\n",
       "      <td>M6</td>\n",
       "      <td>Z</td>\n",
       "      <td>11.2</td>\n",
       "      <td>7.7</td>\n",
       "      <td>9.6</td>\n",
       "      <td>29</td>\n",
       "      <td>221</td>\n",
       "    </tr>\n",
       "    <tr>\n",
       "      <th>2</th>\n",
       "      <td>2014</td>\n",
       "      <td>ACURA</td>\n",
       "      <td>ILX HYBRID</td>\n",
       "      <td>COMPACT</td>\n",
       "      <td>1.5</td>\n",
       "      <td>4</td>\n",
       "      <td>AV7</td>\n",
       "      <td>Z</td>\n",
       "      <td>6.0</td>\n",
       "      <td>5.8</td>\n",
       "      <td>5.9</td>\n",
       "      <td>48</td>\n",
       "      <td>136</td>\n",
       "    </tr>\n",
       "    <tr>\n",
       "      <th>3</th>\n",
       "      <td>2014</td>\n",
       "      <td>ACURA</td>\n",
       "      <td>MDX 4WD</td>\n",
       "      <td>SUV - SMALL</td>\n",
       "      <td>3.5</td>\n",
       "      <td>6</td>\n",
       "      <td>AS6</td>\n",
       "      <td>Z</td>\n",
       "      <td>12.7</td>\n",
       "      <td>9.1</td>\n",
       "      <td>11.1</td>\n",
       "      <td>25</td>\n",
       "      <td>255</td>\n",
       "    </tr>\n",
       "    <tr>\n",
       "      <th>4</th>\n",
       "      <td>2014</td>\n",
       "      <td>ACURA</td>\n",
       "      <td>RDX AWD</td>\n",
       "      <td>SUV - SMALL</td>\n",
       "      <td>3.5</td>\n",
       "      <td>6</td>\n",
       "      <td>AS6</td>\n",
       "      <td>Z</td>\n",
       "      <td>12.1</td>\n",
       "      <td>8.7</td>\n",
       "      <td>10.6</td>\n",
       "      <td>27</td>\n",
       "      <td>244</td>\n",
       "    </tr>\n",
       "  </tbody>\n",
       "</table>\n",
       "</div>"
      ],
      "text/plain": [
       "   MODELYEAR   MAKE       MODEL VEHICLECLASS  ENGINESIZE  CYLINDERS  \\\n",
       "0       2014  ACURA         ILX      COMPACT         2.0          4   \n",
       "1       2014  ACURA         ILX      COMPACT         2.4          4   \n",
       "2       2014  ACURA  ILX HYBRID      COMPACT         1.5          4   \n",
       "3       2014  ACURA     MDX 4WD  SUV - SMALL         3.5          6   \n",
       "4       2014  ACURA     RDX AWD  SUV - SMALL         3.5          6   \n",
       "\n",
       "  TRANSMISSION FUELTYPE  FUELCONSUMPTION_CITY  FUELCONSUMPTION_HWY  \\\n",
       "0          AS5        Z                   9.9                  6.7   \n",
       "1           M6        Z                  11.2                  7.7   \n",
       "2          AV7        Z                   6.0                  5.8   \n",
       "3          AS6        Z                  12.7                  9.1   \n",
       "4          AS6        Z                  12.1                  8.7   \n",
       "\n",
       "   FUELCONSUMPTION_COMB  FUELCONSUMPTION_COMB_MPG  CO2EMISSIONS  \n",
       "0                   8.5                        33           196  \n",
       "1                   9.6                        29           221  \n",
       "2                   5.9                        48           136  \n",
       "3                  11.1                        25           255  \n",
       "4                  10.6                        27           244  "
      ]
     },
     "execution_count": 3,
     "metadata": {},
     "output_type": "execute_result"
    }
   ],
   "source": [
    "# Load\n",
    "try:\n",
    "    df = pd.read_csv(filepath)\n",
    "    print(\"Data imported successfully!\")\n",
    "except ImportError:\n",
    "    print(\"Data not installed. Please Load Data.\")\n",
    "# take a look at the dataset\n",
    "df.head()"
   ]
  },
  {
   "cell_type": "markdown",
   "id": "70860bcb-891a-4177-95ad-7f9b45ebc06e",
   "metadata": {},
   "source": [
    "## 1.1 Data Exploration"
   ]
  },
  {
   "cell_type": "code",
   "execution_count": 4,
   "id": "286957b2-d5bd-4493-86ab-fbcfdaee18ba",
   "metadata": {},
   "outputs": [
    {
     "data": {
      "text/html": [
       "<div>\n",
       "<style scoped>\n",
       "    .dataframe tbody tr th:only-of-type {\n",
       "        vertical-align: middle;\n",
       "    }\n",
       "\n",
       "    .dataframe tbody tr th {\n",
       "        vertical-align: top;\n",
       "    }\n",
       "\n",
       "    .dataframe thead th {\n",
       "        text-align: right;\n",
       "    }\n",
       "</style>\n",
       "<table border=\"1\" class=\"dataframe\">\n",
       "  <thead>\n",
       "    <tr style=\"text-align: right;\">\n",
       "      <th></th>\n",
       "      <th>count</th>\n",
       "      <th>mean</th>\n",
       "      <th>std</th>\n",
       "      <th>min</th>\n",
       "      <th>25%</th>\n",
       "      <th>50%</th>\n",
       "      <th>75%</th>\n",
       "      <th>max</th>\n",
       "    </tr>\n",
       "  </thead>\n",
       "  <tbody>\n",
       "    <tr>\n",
       "      <th>MODELYEAR</th>\n",
       "      <td>1067.0</td>\n",
       "      <td>2014.000000</td>\n",
       "      <td>0.000000</td>\n",
       "      <td>2014.0</td>\n",
       "      <td>2014.00</td>\n",
       "      <td>2014.0</td>\n",
       "      <td>2014.00</td>\n",
       "      <td>2014.0</td>\n",
       "    </tr>\n",
       "    <tr>\n",
       "      <th>ENGINESIZE</th>\n",
       "      <td>1067.0</td>\n",
       "      <td>3.346298</td>\n",
       "      <td>1.415895</td>\n",
       "      <td>1.0</td>\n",
       "      <td>2.00</td>\n",
       "      <td>3.4</td>\n",
       "      <td>4.30</td>\n",
       "      <td>8.4</td>\n",
       "    </tr>\n",
       "    <tr>\n",
       "      <th>CYLINDERS</th>\n",
       "      <td>1067.0</td>\n",
       "      <td>5.794752</td>\n",
       "      <td>1.797447</td>\n",
       "      <td>3.0</td>\n",
       "      <td>4.00</td>\n",
       "      <td>6.0</td>\n",
       "      <td>8.00</td>\n",
       "      <td>12.0</td>\n",
       "    </tr>\n",
       "    <tr>\n",
       "      <th>FUELCONSUMPTION_CITY</th>\n",
       "      <td>1067.0</td>\n",
       "      <td>13.296532</td>\n",
       "      <td>4.101253</td>\n",
       "      <td>4.6</td>\n",
       "      <td>10.25</td>\n",
       "      <td>12.6</td>\n",
       "      <td>15.55</td>\n",
       "      <td>30.2</td>\n",
       "    </tr>\n",
       "    <tr>\n",
       "      <th>FUELCONSUMPTION_HWY</th>\n",
       "      <td>1067.0</td>\n",
       "      <td>9.474602</td>\n",
       "      <td>2.794510</td>\n",
       "      <td>4.9</td>\n",
       "      <td>7.50</td>\n",
       "      <td>8.8</td>\n",
       "      <td>10.85</td>\n",
       "      <td>20.5</td>\n",
       "    </tr>\n",
       "    <tr>\n",
       "      <th>FUELCONSUMPTION_COMB</th>\n",
       "      <td>1067.0</td>\n",
       "      <td>11.580881</td>\n",
       "      <td>3.485595</td>\n",
       "      <td>4.7</td>\n",
       "      <td>9.00</td>\n",
       "      <td>10.9</td>\n",
       "      <td>13.35</td>\n",
       "      <td>25.8</td>\n",
       "    </tr>\n",
       "    <tr>\n",
       "      <th>FUELCONSUMPTION_COMB_MPG</th>\n",
       "      <td>1067.0</td>\n",
       "      <td>26.441425</td>\n",
       "      <td>7.468702</td>\n",
       "      <td>11.0</td>\n",
       "      <td>21.00</td>\n",
       "      <td>26.0</td>\n",
       "      <td>31.00</td>\n",
       "      <td>60.0</td>\n",
       "    </tr>\n",
       "    <tr>\n",
       "      <th>CO2EMISSIONS</th>\n",
       "      <td>1067.0</td>\n",
       "      <td>256.228679</td>\n",
       "      <td>63.372304</td>\n",
       "      <td>108.0</td>\n",
       "      <td>207.00</td>\n",
       "      <td>251.0</td>\n",
       "      <td>294.00</td>\n",
       "      <td>488.0</td>\n",
       "    </tr>\n",
       "  </tbody>\n",
       "</table>\n",
       "</div>"
      ],
      "text/plain": [
       "                           count         mean        std     min      25%  \\\n",
       "MODELYEAR                 1067.0  2014.000000   0.000000  2014.0  2014.00   \n",
       "ENGINESIZE                1067.0     3.346298   1.415895     1.0     2.00   \n",
       "CYLINDERS                 1067.0     5.794752   1.797447     3.0     4.00   \n",
       "FUELCONSUMPTION_CITY      1067.0    13.296532   4.101253     4.6    10.25   \n",
       "FUELCONSUMPTION_HWY       1067.0     9.474602   2.794510     4.9     7.50   \n",
       "FUELCONSUMPTION_COMB      1067.0    11.580881   3.485595     4.7     9.00   \n",
       "FUELCONSUMPTION_COMB_MPG  1067.0    26.441425   7.468702    11.0    21.00   \n",
       "CO2EMISSIONS              1067.0   256.228679  63.372304   108.0   207.00   \n",
       "\n",
       "                             50%      75%     max  \n",
       "MODELYEAR                 2014.0  2014.00  2014.0  \n",
       "ENGINESIZE                   3.4     4.30     8.4  \n",
       "CYLINDERS                    6.0     8.00    12.0  \n",
       "FUELCONSUMPTION_CITY        12.6    15.55    30.2  \n",
       "FUELCONSUMPTION_HWY          8.8    10.85    20.5  \n",
       "FUELCONSUMPTION_COMB        10.9    13.35    25.8  \n",
       "FUELCONSUMPTION_COMB_MPG    26.0    31.00    60.0  \n",
       "CO2EMISSIONS               251.0   294.00   488.0  "
      ]
     },
     "execution_count": 4,
     "metadata": {},
     "output_type": "execute_result"
    }
   ],
   "source": [
    "# summarize the data\n",
    "df.describe().T"
   ]
  },
  {
   "cell_type": "code",
   "execution_count": 5,
   "id": "e75d9310-29dc-4b5f-96db-d58a8295ce6e",
   "metadata": {},
   "outputs": [
    {
     "data": {
      "text/html": [
       "<div>\n",
       "<style scoped>\n",
       "    .dataframe tbody tr th:only-of-type {\n",
       "        vertical-align: middle;\n",
       "    }\n",
       "\n",
       "    .dataframe tbody tr th {\n",
       "        vertical-align: top;\n",
       "    }\n",
       "\n",
       "    .dataframe thead th {\n",
       "        text-align: right;\n",
       "    }\n",
       "</style>\n",
       "<table border=\"1\" class=\"dataframe\">\n",
       "  <thead>\n",
       "    <tr style=\"text-align: right;\">\n",
       "      <th></th>\n",
       "      <th>ENGINESIZE</th>\n",
       "      <th>CYLINDERS</th>\n",
       "      <th>FUELCONSUMPTION_COMB</th>\n",
       "      <th>CO2EMISSIONS</th>\n",
       "    </tr>\n",
       "  </thead>\n",
       "  <tbody>\n",
       "    <tr>\n",
       "      <th>0</th>\n",
       "      <td>2.0</td>\n",
       "      <td>4</td>\n",
       "      <td>8.5</td>\n",
       "      <td>196</td>\n",
       "    </tr>\n",
       "    <tr>\n",
       "      <th>1</th>\n",
       "      <td>2.4</td>\n",
       "      <td>4</td>\n",
       "      <td>9.6</td>\n",
       "      <td>221</td>\n",
       "    </tr>\n",
       "    <tr>\n",
       "      <th>2</th>\n",
       "      <td>1.5</td>\n",
       "      <td>4</td>\n",
       "      <td>5.9</td>\n",
       "      <td>136</td>\n",
       "    </tr>\n",
       "    <tr>\n",
       "      <th>3</th>\n",
       "      <td>3.5</td>\n",
       "      <td>6</td>\n",
       "      <td>11.1</td>\n",
       "      <td>255</td>\n",
       "    </tr>\n",
       "    <tr>\n",
       "      <th>4</th>\n",
       "      <td>3.5</td>\n",
       "      <td>6</td>\n",
       "      <td>10.6</td>\n",
       "      <td>244</td>\n",
       "    </tr>\n",
       "    <tr>\n",
       "      <th>5</th>\n",
       "      <td>3.5</td>\n",
       "      <td>6</td>\n",
       "      <td>10.0</td>\n",
       "      <td>230</td>\n",
       "    </tr>\n",
       "    <tr>\n",
       "      <th>6</th>\n",
       "      <td>3.5</td>\n",
       "      <td>6</td>\n",
       "      <td>10.1</td>\n",
       "      <td>232</td>\n",
       "    </tr>\n",
       "    <tr>\n",
       "      <th>7</th>\n",
       "      <td>3.7</td>\n",
       "      <td>6</td>\n",
       "      <td>11.1</td>\n",
       "      <td>255</td>\n",
       "    </tr>\n",
       "    <tr>\n",
       "      <th>8</th>\n",
       "      <td>3.7</td>\n",
       "      <td>6</td>\n",
       "      <td>11.6</td>\n",
       "      <td>267</td>\n",
       "    </tr>\n",
       "  </tbody>\n",
       "</table>\n",
       "</div>"
      ],
      "text/plain": [
       "   ENGINESIZE  CYLINDERS  FUELCONSUMPTION_COMB  CO2EMISSIONS\n",
       "0         2.0          4                   8.5           196\n",
       "1         2.4          4                   9.6           221\n",
       "2         1.5          4                   5.9           136\n",
       "3         3.5          6                  11.1           255\n",
       "4         3.5          6                  10.6           244\n",
       "5         3.5          6                  10.0           230\n",
       "6         3.5          6                  10.1           232\n",
       "7         3.7          6                  11.1           255\n",
       "8         3.7          6                  11.6           267"
      ]
     },
     "execution_count": 5,
     "metadata": {},
     "output_type": "execute_result"
    }
   ],
   "source": [
    "# Selecting numeric features\n",
    "\n",
    "#cdf = df[['x1','x2','x3', 'x4]]\n",
    "cdf = df[['ENGINESIZE', 'CYLINDERS', 'FUELCONSUMPTION_COMB', 'CO2EMISSIONS']]\n",
    "cdf.head(9)"
   ]
  },
  {
   "cell_type": "code",
   "execution_count": 6,
   "id": "26808e63-e5dc-4d74-bd1c-7944e0b88ee7",
   "metadata": {},
   "outputs": [
    {
     "data": {
      "image/png": "[encoded data removed]",
      "text/plain": [
       "<Figure size 432x288 with 4 Axes>"
      ]
     },
     "metadata": {
      "needs_background": "light"
     },
     "output_type": "display_data"
    }
   ],
   "source": [
    "# plot data into histogram\n",
    "viz = cdf[['CYLINDERS','ENGINESIZE','CO2EMISSIONS','FUELCONSUMPTION_COMB']]\n",
    "viz.hist()\n",
    "plt.show()\n",
    "\n",
    "#cdf.hist(figsize=(13, 13)) \n",
    "#plt.show() "
   ]
  },
  {
   "cell_type": "code",
   "execution_count": 7,
   "id": "d1d2d875-fd35-4926-87ea-dee29af27887",
   "metadata": {},
   "outputs": [
    {
     "data": {
      "image/png": "[encoded data removed]",
      "text/plain": [
       "<Figure size 720x576 with 2 Axes>"
      ]
     },
     "metadata": {},
     "output_type": "display_data"
    }
   ],
   "source": [
    "# Create a correlation matrix\n",
    "import seaborn as sns\n",
    "sns.set()\n",
    "\n",
    "correlation_matrix = cdf.corr()\n",
    "    # Plot a heatmap to visualize the correlation matrix\n",
    "plt.figure(figsize=(10, 8))\n",
    "sns.heatmap(correlation_matrix, annot=True, cmap='coolwarm', fmt='.2f')\n",
    "plt.title(\"Correlation Matrix Heatmap\")\n",
    "plt.show()"
   ]
  },
  {
   "cell_type": "markdown",
   "id": "29d79229-5793-4b8d-9fcd-1a93aef6c844",
   "metadata": {},
   "source": [
    "There are numerous correlations between differnt variables we will choose an features(X) and a target(Y).\n",
    "\n",
    "**X vs Y(Emissions)**\n",
    "- visualize how linear their relationship is:"
   ]
  },
  {
   "cell_type": "code",
   "execution_count": 8,
   "id": "f27d517e-9565-4fb1-a04d-e7a96a0ccb96",
   "metadata": {},
   "outputs": [
    {
     "data": {
      "image/png": "[encoded data removed]",
      "text/plain": [
       "<Figure size 432x288 with 1 Axes>"
      ]
     },
     "metadata": {},
     "output_type": "display_data"
    },
    {
     "data": {
      "image/png": "[encoded data removed]",
      "text/plain": [
       "<Figure size 432x288 with 1 Axes>"
      ]
     },
     "metadata": {},
     "output_type": "display_data"
    },
    {
     "data": {
      "image/png": "[encoded data removed]",
      "text/plain": [
       "<Figure size 432x288 with 1 Axes>"
      ]
     },
     "metadata": {},
     "output_type": "display_data"
    }
   ],
   "source": [
    "# Linear Relationship \n",
    "# x = Features | y = Target 'Emissions'\n",
    "\n",
    "#plot 2\n",
    "plt.scatter(cdf.FUELCONSUMPTION_COMB, #x\n",
    "            cdf.CO2EMISSIONS, #y\n",
    "            color='blue')\n",
    "plt.xlabel(\"FUELCONSUMPTION_COMB\")\n",
    "plt.ylabel(\"Emission\")\n",
    "plt.show()\n",
    "\n",
    "#plot 2\n",
    "plt.scatter(cdf.ENGINESIZE, cdf.CO2EMISSIONS,  color='blue')\n",
    "plt.xlabel(\"Engine size\")\n",
    "plt.ylabel(\"Emission\")\n",
    "plt.show()\n",
    "\n",
    "#plot 3\n",
    "plt.scatter(cdf.CYLINDERS, cdf.CO2EMISSIONS, color='blue')\n",
    "plt.xlabel(\"Engine size\")\n",
    "plt.ylabel(\"Emission\")\n",
    "plt.title('Linear Relationship: x=CYLINERS vs y=CO2emissions')\n",
    "plt.show()"
   ]
  },
  {
   "cell_type": "markdown",
   "id": "df750e5f-d905-49fe-a3d1-dd8b667080fc",
   "metadata": {
    "tags": []
   },
   "source": [
    "_____\n",
    "# [2] Data Preprocessing \n",
    "\n",
    "- Cleaning\n",
    "- Missing data\n",
    "- Scaling\n",
    "- Feature Selection \n",
    "\n",
    "**NOTE:** As this is already a refined dataset we skip steps. Feature selection was produced when we selected numeric values from the dataframe.  \n",
    "\n",
    "> Q: How, many independent variables (X) should we use for the prediction? \n",
    "\n",
    "Recommended to avoid using too many independent variables without any theoretical justification may result in an overfit model. An overfit model is too complicated for your data set and not general enough to be used for prediction. Avoid overfitting a model in regression by: _More data, feature selection, regualrization, cross validation (k-fold), ensemble methods, standardize features, hyperparameters_\n",
    "\n",
    "> Q: Should independent variables be continuous? \n",
    "\n",
    "Categorical independent variables can be incorporated into a regression model by converting them into numerical variables. For example: _given a binary variables such as car type, the code dummy zero for manual and one for automatic cars_.\n",
    "\n",
    "\n",
    "> NOTE: multiple linear regression is a specific type of linear regression. \n",
    "\n",
    "There needs to be a linear relationship between the dependent variable and each of your independent variables. There are a number of ways to check for linear relationship. For example: _use scatter plots and then visually checked for linearity. If the relationship displayed in your scatter plot is not linear, then you need to use non-linear regression_"
   ]
  },
  {
   "cell_type": "code",
   "execution_count": 9,
   "id": "617ec26e-e7ed-458a-a0f4-899096eb0bb2",
   "metadata": {},
   "outputs": [],
   "source": [
    "# copy of original data failsafe\n",
    "df_copy = cdf.copy()"
   ]
  },
  {
   "cell_type": "markdown",
   "id": "9a14e3f3-2923-4504-a9cc-6ce0037abe79",
   "metadata": {},
   "source": [
    "_______________\n",
    "# [3] Creating train and test dataset\n",
    "Train/Test Split involves splitting the dataset into training and testing sets that are mutually exclusive. After which, you train with the training set and test with the testing set. \n",
    "This will provide a more accurate evaluation on out-of-sample accuracy because the testing dataset is not part of the dataset that have been used to train the model. Therefore, it gives us a better understanding of how well our model generalizes on new data.\n",
    "\n",
    "This means that we know the outcome of each data point in the testing dataset, making it great to test with! Since this data has not been used to train the model, the model has no knowledge of the outcome of these data points. So, in essence, it is truly an out-of-sample testing.\n",
    "\n",
    "Let's split our dataset into train and test sets. `80% of the entire dataset will be used for training and 20% for testing`. We create a mask to select random rows using __np.random.rand()__ function: "
   ]
  },
  {
   "cell_type": "code",
   "execution_count": 10,
   "id": "dab932da-d16e-4273-b979-bc2be7288038",
   "metadata": {},
   "outputs": [],
   "source": [
    "msk = np.random.rand(len(df_copy)) < 0.8\n",
    "train = df_copy[msk]\n",
    "test = df_copy[~msk]"
   ]
  },
  {
   "cell_type": "code",
   "execution_count": 11,
   "id": "5f1f5b36-b5e5-4fea-afde-11919e807c7c",
   "metadata": {},
   "outputs": [
    {
     "name": "stdout",
     "output_type": "stream",
     "text": [
      "(835, 4)\n",
      "(232, 4)\n"
     ]
    }
   ],
   "source": [
    "print(train.shape)\n",
    "print(test.shape)"
   ]
  },
  {
   "cell_type": "code",
   "execution_count": 12,
   "id": "beab4b02-cf7f-4f84-819c-e3f668cbf898",
   "metadata": {},
   "outputs": [
    {
     "data": {
      "image/png": "[encoded data removed]",
      "text/plain": [
       "<Figure size 432x288 with 1 Axes>"
      ]
     },
     "metadata": {},
     "output_type": "display_data"
    }
   ],
   "source": [
    "# distribution \n",
    "plt.scatter(train.ENGINESIZE, train.CO2EMISSIONS,  color='blue')\n",
    "plt.xlabel(\"Engine size\")\n",
    "plt.ylabel(\"Emission\")\n",
    "plt.show()"
   ]
  },
  {
   "cell_type": "markdown",
   "id": "6cbe89f3-db23-42b5-b578-549e659d6042",
   "metadata": {},
   "source": [
    "_______\n",
    "# [4] Model Selection\n",
    "\n",
    "### Simple Linear Regression Model\n",
    "Linear Regression fits a linear model with coefficients B = (B1, ..., Bn) to minimize the 'residual sum of squares' between the actual value y in the dataset, and the predicted value yhat using linear approximation. \n",
    "\n",
    "### Multiple Linear Regression Model\n",
    "In reality, there are multiple variables that impact the co2emission. When more than one independent variable is present, the process is called multiple linear regression. An example of multiple linear regression is predicting co2emission using the features FUELCONSUMPTION_COMB, EngineSize and Cylinders of cars. The good thing here is that multiple linear regression model is the extension of the simple linear regression model."
   ]
  },
  {
   "cell_type": "code",
   "execution_count": 13,
   "id": "8d51f753-2b3c-4ce7-b462-5c863154396b",
   "metadata": {},
   "outputs": [],
   "source": [
    "# Simple LR\n",
    "slr = linear_model.LinearRegression()"
   ]
  },
  {
   "cell_type": "code",
   "execution_count": 14,
   "id": "86237ec1-69df-4608-8455-a8a8a8fb7479",
   "metadata": {},
   "outputs": [],
   "source": [
    "# Multiple LR\n",
    "mlr = linear_model.LinearRegression()"
   ]
  },
  {
   "cell_type": "markdown",
   "id": "cfa28ab8-c189-4365-b56f-52c8b00844f4",
   "metadata": {},
   "source": [
    "_______________\n",
    "# [5] Model Training\n"
   ]
  },
  {
   "cell_type": "code",
   "execution_count": 15,
   "id": "7c7ee339-0214-4886-a1b2-9171617cd172",
   "metadata": {},
   "outputs": [
    {
     "name": "stdout",
     "output_type": "stream",
     "text": [
      "Coefficients:  [[39.24461743]]\n",
      "Intercept:  [125.45314976]\n"
     ]
    }
   ],
   "source": [
    "# SLR\n",
    "train_x = np.asanyarray(train[['ENGINESIZE']])\n",
    "train_y = np.asanyarray(train[['CO2EMISSIONS']])\n",
    "slr.fit(train_x, train_y)\n",
    "\n",
    "# The coefficients\n",
    "print ('Coefficients: ', slr.coef_)\n",
    "print ('Intercept: ', slr.intercept_)"
   ]
  },
  {
   "cell_type": "code",
   "execution_count": 16,
   "id": "458548f6-181b-4305-8f0d-441890f759fb",
   "metadata": {},
   "outputs": [
    {
     "data": {
      "text/plain": [
       "Text(0, 0.5, 'Emission')"
      ]
     },
     "execution_count": 16,
     "metadata": {},
     "output_type": "execute_result"
    },
    {
     "data": {
      "image/png": "[encoded data removed]",
      "text/plain": [
       "<Figure size 432x288 with 1 Axes>"
      ]
     },
     "metadata": {},
     "output_type": "display_data"
    }
   ],
   "source": [
    "# SLR \n",
    "# Plot outputs\n",
    "plt.scatter(train.ENGINESIZE, train.CO2EMISSIONS,  color='blue')\n",
    "plt.plot(train_x, slr.coef_[0][0]*train_x + slr.intercept_[0], '-r')\n",
    "plt.xlabel(\"Engine size\")\n",
    "plt.ylabel(\"Emission\")\n",
    "# We can plot the fit line over the data."
   ]
  },
  {
   "cell_type": "code",
   "execution_count": 17,
   "id": "6df8aa5c-ca73-486d-9200-c50f846c9678",
   "metadata": {},
   "outputs": [
    {
     "name": "stdout",
     "output_type": "stream",
     "text": [
      "Coefficients:  [[10.20744687  8.68222221  9.2737092 ]]\n"
     ]
    }
   ],
   "source": [
    "# MLR\n",
    "x = np.asanyarray(train[['ENGINESIZE','CYLINDERS','FUELCONSUMPTION_COMB']])\n",
    "y = np.asanyarray(train[['CO2EMISSIONS']])\n",
    "mlr.fit (x, y)\n",
    "\n",
    "# The coefficients\n",
    "print ('Coefficients: ', mlr.coef_)"
   ]
  },
  {
   "cell_type": "markdown",
   "id": "001a800b-c0ee-4877-8665-f00de3679bce",
   "metadata": {},
   "source": [
    "__Coefficient__ and __Intercept__  are the parameters of the fitted line. \n",
    "Given that it is a multiple linear regression model with 3 parameters and that the parameters are the intercept and coefficients of the hyperplane, sklearn can estimate them from our data. Scikit-learn uses plain Ordinary Least Squares method to solve this problem.\n",
    "\n",
    "#### Ordinary Least Squares (OLS)\n",
    "OLS is a method for estimating the unknown parameters in a linear regression model. OLS chooses the parameters of a linear function of a set of explanatory variables by minimizing the sum of the squares of the differences between the target dependent variable and those predicted by the linear function. In other words, it tries to minimizes the sum of squared errors (SSE) or mean squared error (MSE) between the target variable (y) and our predicted output ($\\hat{y}$) over all samples in the dataset.\n",
    "\n",
    "OLS can find the best parameters using of the following methods:\n",
    "* Solving the model parameters analytically using closed-form equations\n",
    "* Using an optimization algorithm (Gradient Descent, Stochastic Gradient Descent, Newton’s Method, etc.)"
   ]
  },
  {
   "cell_type": "markdown",
   "id": "aba2ec4d-7512-492f-a4ca-c942136ac25a",
   "metadata": {},
   "source": [
    "____\n",
    "# [6] Model Evaluation"
   ]
  },
  {
   "cell_type": "code",
   "execution_count": 34,
   "id": "d0b35331-b243-451a-b3fb-0ccc20a9a4ba",
   "metadata": {},
   "outputs": [
    {
     "name": "stdout",
     "output_type": "stream",
     "text": [
      "Mean absolute error: 20.34\n",
      "Residual sum of squares (MSE): 765.39\n",
      "R2-score: 0.75\n"
     ]
    }
   ],
   "source": [
    "# SLR \n",
    "test_x = np.asanyarray(test[['ENGINESIZE']])\n",
    "test_y = np.asanyarray(test[['CO2EMISSIONS']])\n",
    "# predictions\n",
    "test_y_ = slr.predict(test_x)\n",
    "\n",
    "print(\"Mean absolute error: %.2f\" % np.mean(np.absolute(test_y_ - test_y)))\n",
    "print(\"Residual sum of squares (MSE): %.2f\" % np.mean((test_y_ - test_y) ** 2))\n",
    "print(\"R2-score: %.2f\" % r2_score(test_y , test_y_) )"
   ]
  },
  {
   "cell_type": "code",
   "execution_count": 32,
   "id": "b110f967-22d8-4a81-9030-e74d17da4bdd",
   "metadata": {},
   "outputs": [
    {
     "name": "stdout",
     "output_type": "stream",
     "text": [
      "Mean absolute error:  20.33597311876118\n",
      "Residual sum of squares (MSE):  765.3938786783692\n",
      "R2-score:  0.752789556486188\n"
     ]
    }
   ],
   "source": [
    "# SLR with packages\n",
    "SLR_MAE = mean_absolute_error(test_y, test_y_)\n",
    "SLR_MSE = mean_squared_error(test_y, test_y_)\n",
    "SLR_R2 = r2_score(test_y, test_y_)\n",
    "\n",
    "print(\"Mean absolute error: \", SLR_MAE)\n",
    "print(\"Residual sum of squares (MSE): \", SLR_MSE)\n",
    "print(\"R2-score: \" , SLR_R2)"
   ]
  },
  {
   "cell_type": "markdown",
   "id": "e5c26056-5854-42d8-9a6c-81a461089749",
   "metadata": {},
   "source": [
    "<details><summary>Click here for the Simple Model Evaluation:</summary>\n",
    "    \n",
    "We compare the actual values and predicted values to calculate the accuracy of a regression model. Evaluation metrics provide a key role in the development of a model, as it provides insight to areas that require improvement.\n",
    "\n",
    "There are different model evaluation metrics, lets use MSE here to calculate the accuracy of our model based on the test set: \n",
    "* Mean Absolute Error: It is the mean of the absolute value of the errors. This is the easiest of the metrics to understand since it’s just average error.\n",
    "\n",
    "* Mean Squared Error (MSE): Mean Squared Error (MSE) is the mean of the squared error. It’s more popular than Mean Absolute Error because the focus is geared more towards large errors. This is due to the squared term exponentially increasing larger errors in comparison to smaller ones.\n",
    "\n",
    "* Root Mean Squared Error (RMSE). \n",
    "\n",
    "* R-squared is not an error, but rather a popular metric to measure the performance of your regression model. It represents how close the data points are to the fitted regression line. The higher the R-squared value, the better the model fits your data. The best possible score is 1.0 and it can be negative (because the model can be arbitrarily worse)."
   ]
  },
  {
   "cell_type": "code",
   "execution_count": 35,
   "id": "2933ea99-8ed8-476a-ac9f-a4b0468fce70",
   "metadata": {},
   "outputs": [
    {
     "name": "stdout",
     "output_type": "stream",
     "text": [
      "Mean Absolute Error: 14.26\n",
      "Residual sum of squares: 375.79\n",
      "Variance score: 0.88\n"
     ]
    }
   ],
   "source": [
    "# MLR\n",
    "x = np.asanyarray(test[['ENGINESIZE','CYLINDERS','FUELCONSUMPTION_COMB']])\n",
    "y = np.asanyarray(test[['CO2EMISSIONS']])\n",
    "# predictions\n",
    "y_hat= mlr.predict(test[['ENGINESIZE','CYLINDERS','FUELCONSUMPTION_COMB']])\n",
    "\n",
    "print(\"Mean Absolute Error: %.2f\" % np.mean(np.absolute(y_hat - y)))\n",
    "print(\"Residual sum of squares: %.2f\" % np.mean((y_hat - y) ** 2))\n",
    "# Explained variance score: 1 is perfect prediction\n",
    "print('Variance score: %.2f' % mlr.score(x, y))"
   ]
  },
  {
   "cell_type": "markdown",
   "id": "f67d75d7-ad0f-4d8e-9fb0-d7dbb49aada3",
   "metadata": {},
   "source": [
    "<details><summary>MLR eplained variance regression score:</summary>\n",
    "Let $\\hat{y}$ be the estimated target output, y the corresponding (correct) target output, and Var be the Variance (the square of the standard deviation). Then the explained variance is estimated as follows:\n",
    "\n",
    "$\\texttt{explainedVariance}(y, \\hat{y}) = 1 - \\frac{Var\\{ y - \\hat{y}\\}}{Var\\{y\\}}$  \n",
    "The best possible score is 1.0, the lower values are worse."
   ]
  },
  {
   "cell_type": "markdown",
   "id": "bea5713f-ff28-450c-9b32-787f046fbecb",
   "metadata": {},
   "source": [
    "_______\n",
    "# CHANGE TO FEATURE `x`\n",
    "use a multiple linear regression with the same dataset, but this time use FUELCONSUMPTION_CITY and FUELCONSUMPTION_HWY instead of FUELCONSUMPTION_COMB. Does it result in better accuracy?"
   ]
  },
  {
   "cell_type": "code",
   "execution_count": 22,
   "id": "3291df5f-dbea-4966-9ab0-765b3ef5faf3",
   "metadata": {},
   "outputs": [
    {
     "data": {
      "text/html": [
       "<div>\n",
       "<style scoped>\n",
       "    .dataframe tbody tr th:only-of-type {\n",
       "        vertical-align: middle;\n",
       "    }\n",
       "\n",
       "    .dataframe tbody tr th {\n",
       "        vertical-align: top;\n",
       "    }\n",
       "\n",
       "    .dataframe thead th {\n",
       "        text-align: right;\n",
       "    }\n",
       "</style>\n",
       "<table border=\"1\" class=\"dataframe\">\n",
       "  <thead>\n",
       "    <tr style=\"text-align: right;\">\n",
       "      <th></th>\n",
       "      <th>ENGINESIZE</th>\n",
       "      <th>CYLINDERS</th>\n",
       "      <th>FUELCONSUMPTION_CITY</th>\n",
       "      <th>FUELCONSUMPTION_HWY</th>\n",
       "      <th>CO2EMISSIONS</th>\n",
       "    </tr>\n",
       "  </thead>\n",
       "  <tbody>\n",
       "    <tr>\n",
       "      <th>0</th>\n",
       "      <td>2.0</td>\n",
       "      <td>4</td>\n",
       "      <td>9.9</td>\n",
       "      <td>6.7</td>\n",
       "      <td>196</td>\n",
       "    </tr>\n",
       "    <tr>\n",
       "      <th>1</th>\n",
       "      <td>2.4</td>\n",
       "      <td>4</td>\n",
       "      <td>11.2</td>\n",
       "      <td>7.7</td>\n",
       "      <td>221</td>\n",
       "    </tr>\n",
       "    <tr>\n",
       "      <th>2</th>\n",
       "      <td>1.5</td>\n",
       "      <td>4</td>\n",
       "      <td>6.0</td>\n",
       "      <td>5.8</td>\n",
       "      <td>136</td>\n",
       "    </tr>\n",
       "    <tr>\n",
       "      <th>3</th>\n",
       "      <td>3.5</td>\n",
       "      <td>6</td>\n",
       "      <td>12.7</td>\n",
       "      <td>9.1</td>\n",
       "      <td>255</td>\n",
       "    </tr>\n",
       "    <tr>\n",
       "      <th>4</th>\n",
       "      <td>3.5</td>\n",
       "      <td>6</td>\n",
       "      <td>12.1</td>\n",
       "      <td>8.7</td>\n",
       "      <td>244</td>\n",
       "    </tr>\n",
       "  </tbody>\n",
       "</table>\n",
       "</div>"
      ],
      "text/plain": [
       "   ENGINESIZE  CYLINDERS  FUELCONSUMPTION_CITY  FUELCONSUMPTION_HWY  \\\n",
       "0         2.0          4                   9.9                  6.7   \n",
       "1         2.4          4                  11.2                  7.7   \n",
       "2         1.5          4                   6.0                  5.8   \n",
       "3         3.5          6                  12.7                  9.1   \n",
       "4         3.5          6                  12.1                  8.7   \n",
       "\n",
       "   CO2EMISSIONS  \n",
       "0           196  \n",
       "1           221  \n",
       "2           136  \n",
       "3           255  \n",
       "4           244  "
      ]
     },
     "execution_count": 22,
     "metadata": {},
     "output_type": "execute_result"
    }
   ],
   "source": [
    "df2 = df[['ENGINESIZE','CYLINDERS','FUELCONSUMPTION_CITY','FUELCONSUMPTION_HWY', 'CO2EMISSIONS']]\n",
    "df2.head()"
   ]
  },
  {
   "cell_type": "code",
   "execution_count": 23,
   "id": "6b9bebe5-3b3e-4705-ae73-5e3af7d7ebec",
   "metadata": {},
   "outputs": [],
   "source": [
    "msk = np.random.rand(len(df)) < 0.8\n",
    "train = df2[msk]\n",
    "test = df2[~msk]"
   ]
  },
  {
   "cell_type": "code",
   "execution_count": 24,
   "id": "c1c97df7-0fcd-4206-915b-3c4847b0705a",
   "metadata": {},
   "outputs": [
    {
     "name": "stdout",
     "output_type": "stream",
     "text": [
      "Coefficients:  [[10.67271258  7.49971334  5.55041173  4.10106026]]\n",
      "Residual sum of squares: 641.18\n",
      "Variance score: 0.85\n"
     ]
    }
   ],
   "source": [
    "regr = linear_model.LinearRegression()\n",
    "x = np.asanyarray(train[['ENGINESIZE','CYLINDERS','FUELCONSUMPTION_CITY','FUELCONSUMPTION_HWY']])\n",
    "y = np.asanyarray(train[['CO2EMISSIONS']])\n",
    "regr.fit (x, y)\n",
    "print ('Coefficients: ', regr.coef_)\n",
    "y_= regr.predict(test[['ENGINESIZE','CYLINDERS','FUELCONSUMPTION_CITY','FUELCONSUMPTION_HWY']])\n",
    "x = np.asanyarray(test[['ENGINESIZE','CYLINDERS','FUELCONSUMPTION_CITY','FUELCONSUMPTION_HWY']])\n",
    "y = np.asanyarray(test[['CO2EMISSIONS']])\n",
    "print(\"Residual sum of squares: %.2f\"% np.mean((y_ - y) ** 2))\n",
    "print('Variance score: %.2f' % regr.score(x, y))"
   ]
  }
 ],
 "metadata": {
  "kernelspec": {
   "display_name": "Python 3 (ipykernel)",
   "language": "python",
   "name": "python3"
  },
  "language_info": {
   "codemirror_mode": {
    "name": "ipython",
    "version": 3
   },
   "file_extension": ".py",
   "mimetype": "text/x-python",
   "name": "python",
   "nbconvert_exporter": "python",
   "pygments_lexer": "ipython3",
   "version": "3.8.8"
  }
 },
 "nbformat": 4,
 "nbformat_minor": 5
}
