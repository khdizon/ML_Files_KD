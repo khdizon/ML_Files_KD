{
 "cells": [
  {
   "cell_type": "markdown",
   "id": "ab262adb-de7f-4cb8-bbf9-dac46c8c2771",
   "metadata": {
    "tags": []
   },
   "source": [
    "# Machine Learning `Model Name` Startup File\n",
    "\n",
    "Version  | Date | Author | Notes |\n",
    ":-------:|:----:|:-------|:-----:|\n",
    "0.1 |25 July 2023| Ken Dizon | Initial version\n",
    "\n",
    "**Objective**\n",
    "\n",
    "Write a startup ML script `Model Name` for TYPE. The aim is to ...\n",
    "\n",
    "### Algorithms\n",
    "TYPE | \n",
    ":---------:|\n",
    "Models |\n",
    "______________________\n",
    "#### Content\n",
    "1. **Load data**\n",
    "    * 1.1 Data Exploration\n",
    "2. **Data Preprocessing**\n",
    "    * 2.1 Cleaning\n",
    "    * 2.2 Missing Data\n",
    "    * 2.3 Scaling\n",
    "3. **Split - Test & Train**\n",
    "4. **Model Selection**\n",
    "5. **Model Training**\n",
    "5. **Model Evaluation**\n",
    "\n",
    "### Libraries"
   ]
  },
  {
   "cell_type": "code",
   "execution_count": 1,
   "id": "4e28ce9e-91b0-4e04-8c3e-69fb7ab7450d",
   "metadata": {},
   "outputs": [
    {
     "name": "stdout",
     "output_type": "stream",
     "text": [
      "https://scikit-learn.org/stable/\n",
      "Libraries imported successfully!\n"
     ]
    }
   ],
   "source": [
    "try:\n",
    "    import numpy as np #math library \n",
    "    import scipy #computation\n",
    "    import matplotlib.pyplot as plt #visualization\n",
    "    %matplotlib inline\n",
    "    import pandas as pd #dataframes\n",
    "    # ML Packages\n",
    "    import sklearn \n",
    "    from sklearn import preprocessing\n",
    "    from sklearn.model_selection import train_test_split # Split our data \n",
    "    from sklearn import metrics # base metrics\n",
    "    '''machine learning library'''\n",
    "    #from sklearn import #MLA\n",
    "    # metrics\n",
    "    \n",
    "    print('https://scikit-learn.org/stable/')\n",
    "    print(\"Libraries imported successfully!\")\n",
    "except ImportError:\n",
    "    print(\"Libraries not installed. Please install it to use this library.\")"
   ]
  },
  {
   "cell_type": "markdown",
   "id": "332e641a-e434-435d-9e1e-def3df28f17d",
   "metadata": {},
   "source": [
    "_________\n",
    "# [1] Load Data"
   ]
  },
  {
   "cell_type": "code",
   "execution_count": 2,
   "id": "b968b3fb-380a-459c-94a5-4b8eb485bb9e",
   "metadata": {},
   "outputs": [],
   "source": [
    "filepath = \"_\""
   ]
  },
  {
   "cell_type": "code",
   "execution_count": 3,
   "id": "4112add4-494e-4c6f-a9d9-3f09bf206d9c",
   "metadata": {},
   "outputs": [
    {
     "name": "stdout",
     "output_type": "stream",
     "text": [
      "Data imported successfully!\n"
     ]
    },
    {
     "data": {
      "text/html": [
       "<div>\n",
       "<style scoped>\n",
       "    .dataframe tbody tr th:only-of-type {\n",
       "        vertical-align: middle;\n",
       "    }\n",
       "\n",
       "    .dataframe tbody tr th {\n",
       "        vertical-align: top;\n",
       "    }\n",
       "\n",
       "    .dataframe thead th {\n",
       "        text-align: right;\n",
       "    }\n",
       "</style>\n",
       "<table border=\"1\" class=\"dataframe\">\n",
       "  <thead>\n",
       "    <tr style=\"text-align: right;\">\n",
       "      <th></th>\n",
       "      <th>MODELYEAR</th>\n",
       "      <th>MAKE</th>\n",
       "      <th>MODEL</th>\n",
       "      <th>VEHICLECLASS</th>\n",
       "      <th>ENGINESIZE</th>\n",
       "      <th>CYLINDERS</th>\n",
       "      <th>TRANSMISSION</th>\n",
       "      <th>FUELTYPE</th>\n",
       "      <th>FUELCONSUMPTION_CITY</th>\n",
       "      <th>FUELCONSUMPTION_HWY</th>\n",
       "      <th>FUELCONSUMPTION_COMB</th>\n",
       "      <th>FUELCONSUMPTION_COMB_MPG</th>\n",
       "      <th>CO2EMISSIONS</th>\n",
       "    </tr>\n",
       "  </thead>\n",
       "  <tbody>\n",
       "    <tr>\n",
       "      <th>0</th>\n",
       "      <td>2014</td>\n",
       "      <td>ACURA</td>\n",
       "      <td>ILX</td>\n",
       "      <td>COMPACT</td>\n",
       "      <td>2.0</td>\n",
       "      <td>4</td>\n",
       "      <td>AS5</td>\n",
       "      <td>Z</td>\n",
       "      <td>9.9</td>\n",
       "      <td>6.7</td>\n",
       "      <td>8.5</td>\n",
       "      <td>33</td>\n",
       "      <td>196</td>\n",
       "    </tr>\n",
       "    <tr>\n",
       "      <th>1</th>\n",
       "      <td>2014</td>\n",
       "      <td>ACURA</td>\n",
       "      <td>ILX</td>\n",
       "      <td>COMPACT</td>\n",
       "      <td>2.4</td>\n",
       "      <td>4</td>\n",
       "      <td>M6</td>\n",
       "      <td>Z</td>\n",
       "      <td>11.2</td>\n",
       "      <td>7.7</td>\n",
       "      <td>9.6</td>\n",
       "      <td>29</td>\n",
       "      <td>221</td>\n",
       "    </tr>\n",
       "    <tr>\n",
       "      <th>2</th>\n",
       "      <td>2014</td>\n",
       "      <td>ACURA</td>\n",
       "      <td>ILX HYBRID</td>\n",
       "      <td>COMPACT</td>\n",
       "      <td>1.5</td>\n",
       "      <td>4</td>\n",
       "      <td>AV7</td>\n",
       "      <td>Z</td>\n",
       "      <td>6.0</td>\n",
       "      <td>5.8</td>\n",
       "      <td>5.9</td>\n",
       "      <td>48</td>\n",
       "      <td>136</td>\n",
       "    </tr>\n",
       "    <tr>\n",
       "      <th>3</th>\n",
       "      <td>2014</td>\n",
       "      <td>ACURA</td>\n",
       "      <td>MDX 4WD</td>\n",
       "      <td>SUV - SMALL</td>\n",
       "      <td>3.5</td>\n",
       "      <td>6</td>\n",
       "      <td>AS6</td>\n",
       "      <td>Z</td>\n",
       "      <td>12.7</td>\n",
       "      <td>9.1</td>\n",
       "      <td>11.1</td>\n",
       "      <td>25</td>\n",
       "      <td>255</td>\n",
       "    </tr>\n",
       "    <tr>\n",
       "      <th>4</th>\n",
       "      <td>2014</td>\n",
       "      <td>ACURA</td>\n",
       "      <td>RDX AWD</td>\n",
       "      <td>SUV - SMALL</td>\n",
       "      <td>3.5</td>\n",
       "      <td>6</td>\n",
       "      <td>AS6</td>\n",
       "      <td>Z</td>\n",
       "      <td>12.1</td>\n",
       "      <td>8.7</td>\n",
       "      <td>10.6</td>\n",
       "      <td>27</td>\n",
       "      <td>244</td>\n",
       "    </tr>\n",
       "  </tbody>\n",
       "</table>\n",
       "</div>"
      ],
      "text/plain": [
       "   MODELYEAR   MAKE       MODEL VEHICLECLASS  ENGINESIZE  CYLINDERS  \\\n",
       "0       2014  ACURA         ILX      COMPACT         2.0          4   \n",
       "1       2014  ACURA         ILX      COMPACT         2.4          4   \n",
       "2       2014  ACURA  ILX HYBRID      COMPACT         1.5          4   \n",
       "3       2014  ACURA     MDX 4WD  SUV - SMALL         3.5          6   \n",
       "4       2014  ACURA     RDX AWD  SUV - SMALL         3.5          6   \n",
       "\n",
       "  TRANSMISSION FUELTYPE  FUELCONSUMPTION_CITY  FUELCONSUMPTION_HWY  \\\n",
       "0          AS5        Z                   9.9                  6.7   \n",
       "1           M6        Z                  11.2                  7.7   \n",
       "2          AV7        Z                   6.0                  5.8   \n",
       "3          AS6        Z                  12.7                  9.1   \n",
       "4          AS6        Z                  12.1                  8.7   \n",
       "\n",
       "   FUELCONSUMPTION_COMB  FUELCONSUMPTION_COMB_MPG  CO2EMISSIONS  \n",
       "0                   8.5                        33           196  \n",
       "1                   9.6                        29           221  \n",
       "2                   5.9                        48           136  \n",
       "3                  11.1                        25           255  \n",
       "4                  10.6                        27           244  "
      ]
     },
     "execution_count": 3,
     "metadata": {},
     "output_type": "execute_result"
    }
   ],
   "source": [
    "# Load\n",
    "try:\n",
    "    df = pd.read_csv(filepath)\n",
    "    print(\"Data imported successfully!\")\n",
    "except ImportError:\n",
    "    print(\"Data not installed. Please Load Data.\")\n",
    "# take a look at the dataset\n",
    "df.head()"
   ]
  },
  {
   "cell_type": "markdown",
   "id": "70860bcb-891a-4177-95ad-7f9b45ebc06e",
   "metadata": {},
   "source": [
    "## 1.1 Data Exploration"
   ]
  },
  {
   "cell_type": "code",
   "execution_count": null,
   "id": "c467aa74-8c3b-4be8-8dac-b1ca4a6ff718",
   "metadata": {},
   "outputs": [],
   "source": []
  },
  {
   "cell_type": "markdown",
   "id": "df750e5f-d905-49fe-a3d1-dd8b667080fc",
   "metadata": {},
   "source": [
    "_____\n",
    "# [2] Data Preprocessing \n",
    "**NOTE:** \n",
    "- Cleaning\n",
    "- Missing data\n",
    "- Scaling\n",
    "- Feature selection"
   ]
  },
  {
   "cell_type": "code",
   "execution_count": null,
   "id": "55edb690-a35d-489f-a9b1-2640e6d42abf",
   "metadata": {},
   "outputs": [],
   "source": []
  },
  {
   "cell_type": "code",
   "execution_count": null,
   "id": "0a66cad4-acf8-4a64-a99b-2bf730fe0a3a",
   "metadata": {},
   "outputs": [],
   "source": []
  },
  {
   "cell_type": "code",
   "execution_count": null,
   "id": "85b3c1eb-1303-461e-a00f-2030536fa94b",
   "metadata": {},
   "outputs": [],
   "source": []
  },
  {
   "cell_type": "markdown",
   "id": "9a14e3f3-2923-4504-a9cc-6ce0037abe79",
   "metadata": {},
   "source": [
    "___________\n",
    "# [3] Split - train and test dataset\n"
   ]
  },
  {
   "cell_type": "code",
   "execution_count": 18,
   "id": "dab932da-d16e-4273-b979-bc2be7288038",
   "metadata": {},
   "outputs": [],
   "source": []
  },
  {
   "cell_type": "markdown",
   "id": "6cbe89f3-db23-42b5-b578-549e659d6042",
   "metadata": {},
   "source": [
    "_______\n",
    "# [4] Model Selection\n",
    "\n",
    "### MODEL NAME"
   ]
  },
  {
   "cell_type": "code",
   "execution_count": null,
   "id": "d70abb83-31b6-426a-b7e1-9a3e7ecb9377",
   "metadata": {},
   "outputs": [],
   "source": []
  },
  {
   "cell_type": "markdown",
   "id": "cfa28ab8-c189-4365-b56f-52c8b00844f4",
   "metadata": {},
   "source": [
    "___________\n",
    "# [5] Model Training\n"
   ]
  },
  {
   "cell_type": "code",
   "execution_count": null,
   "id": "c6c4cab1-039e-4209-8e10-8c04f056d94e",
   "metadata": {},
   "outputs": [],
   "source": []
  },
  {
   "cell_type": "markdown",
   "id": "aba2ec4d-7512-492f-a4ca-c942136ac25a",
   "metadata": {},
   "source": [
    "____\n",
    "# [6] Model Evaluation"
   ]
  },
  {
   "cell_type": "code",
   "execution_count": null,
   "id": "98b1f41d-bfec-436c-b5a0-834cab62a661",
   "metadata": {},
   "outputs": [],
   "source": []
  }
 ],
 "metadata": {
  "kernelspec": {
   "display_name": "Python 3 (ipykernel)",
   "language": "python",
   "name": "python3"
  },
  "language_info": {
   "codemirror_mode": {
    "name": "ipython",
    "version": 3
   },
   "file_extension": ".py",
   "mimetype": "text/x-python",
   "name": "python",
   "nbconvert_exporter": "python",
   "pygments_lexer": "ipython3",
   "version": "3.8.8"
  }
 },
 "nbformat": 4,
 "nbformat_minor": 5
}
