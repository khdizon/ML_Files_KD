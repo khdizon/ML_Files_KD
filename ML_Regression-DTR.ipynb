{
 "cells": [
  {
   "cell_type": "markdown",
   "id": "ab262adb-de7f-4cb8-bbf9-dac46c8c2771",
   "metadata": {
    "tags": []
   },
   "source": [
    "# ML Regression`DRT` Startup File\n",
    "\n",
    "Version  | Date | Author | Notes |\n",
    ":-------:|:----:|:-------|:-----:|\n",
    "0.1 |21 July 2023| Ken Dizon | Initial version\n",
    "\n",
    "**Objective**\n",
    "\n",
    "Write a startup ML script for Regression using `Regression Trees`, #DecisionTreeRegression to split our data into groups based on features, like in classification, and return a prediction that is the average across the data we have already seen. \n",
    "\n",
    "### Algorithms\n",
    "Regression | \n",
    ":---------:|\n",
    "ordinal, poisson, linear, polynomial, lasso, bayesian, NNR, decsion forest, KNNR |\n",
    "______________________\n",
    "#### Content\n",
    "1. **Load data**\n",
    "    * 1.1 Data Exploration\n",
    "2. **Data Preprocessing**\n",
    "    * 2.1 Cleaning\n",
    "    * 2.2 Missing Data\n",
    "    * 2.3 Scaling\n",
    "3. **Split - Test & Train**\n",
    "4. **Model Selection**\n",
    "5. **Model Training**\n",
    "5. **Model Evaluation**\n",
    "\n",
    "### Libraries"
   ]
  },
  {
   "cell_type": "code",
   "execution_count": 1,
   "id": "4e28ce9e-91b0-4e04-8c3e-69fb7ab7450d",
   "metadata": {},
   "outputs": [
    {
     "name": "stdout",
     "output_type": "stream",
     "text": [
      "https://scikit-learn.org/stable/\n",
      "Libraries imported successfully!\n"
     ]
    }
   ],
   "source": [
    "try:\n",
    "    import numpy as np #math library \n",
    "    import scipy #computation\n",
    "    import matplotlib.pyplot as plt #visualization\n",
    "    %matplotlib inline\n",
    "    import pandas as pd #dataframes\n",
    "    \n",
    "    import sklearn # base algorithims\n",
    "    from sklearn import preprocessing\n",
    "    from sklearn.model_selection import train_test_split\n",
    "    from sklearn import metrics \n",
    "    '''machine learning library'''\n",
    "    from sklearn.tree import DecisionTreeRegressor #DTR\n",
    "    import sklearn.tree as tree\n",
    "    \n",
    "    print('https://scikit-learn.org/stable/')\n",
    "    print(\"Libraries imported successfully!\")\n",
    "except ImportError:\n",
    "    print(\"Libraries not installed. Please install it to use this library.\")"
   ]
  },
  {
   "cell_type": "markdown",
   "id": "332e641a-e434-435d-9e1e-def3df28f17d",
   "metadata": {},
   "source": [
    "_________\n",
    "# [1] Load Data"
   ]
  },
  {
   "cell_type": "code",
   "execution_count": 2,
   "id": "d832f28b-0e5d-4007-ba4e-23abb4740ffa",
   "metadata": {},
   "outputs": [],
   "source": [
    "filepath = 'https://cf-courses-data.s3.us.cloud-object-storage.appdomain.cloud/IBMDeveloperSkillsNetwork-ML0101EN-SkillsNetwork/labs/Module%203/data/real_estate_data.csv'"
   ]
  },
  {
   "cell_type": "markdown",
   "id": "c92330f3-7c27-416a-b3d3-98c54aa3b9fa",
   "metadata": {},
   "source": [
    "**Case Study**\n",
    "\n",
    "Imagine you are a data scientist working for a real estate company that is planning to invest in Boston real estate. You have collected information about various areas of Boston and are tasked with created a model that can predict the median price of houses for that area so it can be used to make offers.\n",
    "\n",
    "The dataset had information on areas/towns not individual houses, the features are:\n",
    "\n",
    "Features | Attributes | \n",
    ":-------:|:----------:|\n",
    "CRIM | Crime per capita |\n",
    "ZN | Proportion of residential land zoned for lots over 25,000 sq.ft.|\n",
    "INDUS | Proportion of non-retail business acres per town\n",
    "CHAS | Charles River dummy variable (= 1 if tract bounds river; 0 otherwise) |\n",
    "NOX | Nitric oxides concentration (parts per 10 million) |\n",
    "RM | Average number of rooms per dwelling |\n",
    "AGE |  Proportion of owner-occupied units built prior to 1940 |\n",
    "DIS | Weighted distances to ﬁve Boston employment centers |\n",
    "RAD | Index of accessibility to radial highways |\n",
    "TAX | Full-value property-tax rate per 10,000 |\n",
    "PTRAIO | Pupil-teacher ratio by town |\n",
    "LSTAT | Percent lower status of the population |\n",
    "MEDV | Median value of owner-occupied homes in $1000 |"
   ]
  },
  {
   "cell_type": "code",
   "execution_count": 3,
   "id": "4112add4-494e-4c6f-a9d9-3f09bf206d9c",
   "metadata": {},
   "outputs": [
    {
     "name": "stdout",
     "output_type": "stream",
     "text": [
      "Data imported successfully!\n"
     ]
    },
    {
     "data": {
      "text/html": [
       "<div>\n",
       "<style scoped>\n",
       "    .dataframe tbody tr th:only-of-type {\n",
       "        vertical-align: middle;\n",
       "    }\n",
       "\n",
       "    .dataframe tbody tr th {\n",
       "        vertical-align: top;\n",
       "    }\n",
       "\n",
       "    .dataframe thead th {\n",
       "        text-align: right;\n",
       "    }\n",
       "</style>\n",
       "<table border=\"1\" class=\"dataframe\">\n",
       "  <thead>\n",
       "    <tr style=\"text-align: right;\">\n",
       "      <th></th>\n",
       "      <th>CRIM</th>\n",
       "      <th>ZN</th>\n",
       "      <th>INDUS</th>\n",
       "      <th>CHAS</th>\n",
       "      <th>NOX</th>\n",
       "      <th>RM</th>\n",
       "      <th>AGE</th>\n",
       "      <th>DIS</th>\n",
       "      <th>RAD</th>\n",
       "      <th>TAX</th>\n",
       "      <th>PTRATIO</th>\n",
       "      <th>LSTAT</th>\n",
       "      <th>MEDV</th>\n",
       "    </tr>\n",
       "  </thead>\n",
       "  <tbody>\n",
       "    <tr>\n",
       "      <th>0</th>\n",
       "      <td>0.00632</td>\n",
       "      <td>18.0</td>\n",
       "      <td>2.31</td>\n",
       "      <td>0.0</td>\n",
       "      <td>0.538</td>\n",
       "      <td>6.575</td>\n",
       "      <td>65.2</td>\n",
       "      <td>4.0900</td>\n",
       "      <td>1</td>\n",
       "      <td>296</td>\n",
       "      <td>15.3</td>\n",
       "      <td>4.98</td>\n",
       "      <td>24.0</td>\n",
       "    </tr>\n",
       "    <tr>\n",
       "      <th>1</th>\n",
       "      <td>0.02731</td>\n",
       "      <td>0.0</td>\n",
       "      <td>7.07</td>\n",
       "      <td>0.0</td>\n",
       "      <td>0.469</td>\n",
       "      <td>6.421</td>\n",
       "      <td>78.9</td>\n",
       "      <td>4.9671</td>\n",
       "      <td>2</td>\n",
       "      <td>242</td>\n",
       "      <td>17.8</td>\n",
       "      <td>9.14</td>\n",
       "      <td>21.6</td>\n",
       "    </tr>\n",
       "    <tr>\n",
       "      <th>2</th>\n",
       "      <td>0.02729</td>\n",
       "      <td>0.0</td>\n",
       "      <td>7.07</td>\n",
       "      <td>0.0</td>\n",
       "      <td>0.469</td>\n",
       "      <td>7.185</td>\n",
       "      <td>61.1</td>\n",
       "      <td>4.9671</td>\n",
       "      <td>2</td>\n",
       "      <td>242</td>\n",
       "      <td>17.8</td>\n",
       "      <td>4.03</td>\n",
       "      <td>34.7</td>\n",
       "    </tr>\n",
       "    <tr>\n",
       "      <th>3</th>\n",
       "      <td>0.03237</td>\n",
       "      <td>0.0</td>\n",
       "      <td>2.18</td>\n",
       "      <td>0.0</td>\n",
       "      <td>0.458</td>\n",
       "      <td>6.998</td>\n",
       "      <td>45.8</td>\n",
       "      <td>6.0622</td>\n",
       "      <td>3</td>\n",
       "      <td>222</td>\n",
       "      <td>18.7</td>\n",
       "      <td>2.94</td>\n",
       "      <td>33.4</td>\n",
       "    </tr>\n",
       "    <tr>\n",
       "      <th>4</th>\n",
       "      <td>0.06905</td>\n",
       "      <td>0.0</td>\n",
       "      <td>2.18</td>\n",
       "      <td>0.0</td>\n",
       "      <td>0.458</td>\n",
       "      <td>7.147</td>\n",
       "      <td>54.2</td>\n",
       "      <td>6.0622</td>\n",
       "      <td>3</td>\n",
       "      <td>222</td>\n",
       "      <td>18.7</td>\n",
       "      <td>NaN</td>\n",
       "      <td>36.2</td>\n",
       "    </tr>\n",
       "  </tbody>\n",
       "</table>\n",
       "</div>"
      ],
      "text/plain": [
       "      CRIM    ZN  INDUS  CHAS    NOX     RM   AGE     DIS  RAD  TAX  PTRATIO  \\\n",
       "0  0.00632  18.0   2.31   0.0  0.538  6.575  65.2  4.0900    1  296     15.3   \n",
       "1  0.02731   0.0   7.07   0.0  0.469  6.421  78.9  4.9671    2  242     17.8   \n",
       "2  0.02729   0.0   7.07   0.0  0.469  7.185  61.1  4.9671    2  242     17.8   \n",
       "3  0.03237   0.0   2.18   0.0  0.458  6.998  45.8  6.0622    3  222     18.7   \n",
       "4  0.06905   0.0   2.18   0.0  0.458  7.147  54.2  6.0622    3  222     18.7   \n",
       "\n",
       "   LSTAT  MEDV  \n",
       "0   4.98  24.0  \n",
       "1   9.14  21.6  \n",
       "2   4.03  34.7  \n",
       "3   2.94  33.4  \n",
       "4    NaN  36.2  "
      ]
     },
     "execution_count": 3,
     "metadata": {},
     "output_type": "execute_result"
    }
   ],
   "source": [
    "# Load\n",
    "try:\n",
    "    df = pd.read_csv(filepath)\n",
    "    print(\"Data imported successfully!\")\n",
    "except ImportError:\n",
    "    print(\"Data not installed. Please Load Data.\")\n",
    "# take a look at the dataset\n",
    "df.head()"
   ]
  },
  {
   "cell_type": "markdown",
   "id": "70860bcb-891a-4177-95ad-7f9b45ebc06e",
   "metadata": {},
   "source": [
    "## 1.1 Data Exploration"
   ]
  },
  {
   "cell_type": "code",
   "execution_count": 4,
   "id": "ef9f1a0e-a553-4b91-a5f4-0470c3cbcbc0",
   "metadata": {},
   "outputs": [
    {
     "data": {
      "text/plain": [
       "(506, 13)"
      ]
     },
     "execution_count": 4,
     "metadata": {},
     "output_type": "execute_result"
    }
   ],
   "source": [
    "df.shape"
   ]
  },
  {
   "cell_type": "code",
   "execution_count": 5,
   "id": "2eaac321-3f23-4ebe-a773-90cecc60cd82",
   "metadata": {},
   "outputs": [
    {
     "name": "stdout",
     "output_type": "stream",
     "text": [
      "<class 'pandas.core.frame.DataFrame'>\n",
      "RangeIndex: 506 entries, 0 to 505\n",
      "Data columns (total 13 columns):\n",
      " #   Column   Non-Null Count  Dtype  \n",
      "---  ------   --------------  -----  \n",
      " 0   CRIM     486 non-null    float64\n",
      " 1   ZN       486 non-null    float64\n",
      " 2   INDUS    486 non-null    float64\n",
      " 3   CHAS     486 non-null    float64\n",
      " 4   NOX      506 non-null    float64\n",
      " 5   RM       506 non-null    float64\n",
      " 6   AGE      486 non-null    float64\n",
      " 7   DIS      506 non-null    float64\n",
      " 8   RAD      506 non-null    int64  \n",
      " 9   TAX      506 non-null    int64  \n",
      " 10  PTRATIO  506 non-null    float64\n",
      " 11  LSTAT    486 non-null    float64\n",
      " 12  MEDV     506 non-null    float64\n",
      "dtypes: float64(11), int64(2)\n",
      "memory usage: 51.5 KB\n"
     ]
    }
   ],
   "source": [
    "df.info()"
   ]
  },
  {
   "cell_type": "code",
   "execution_count": 6,
   "id": "91f8e256-bb7e-4654-b5bb-5ab67d10062b",
   "metadata": {},
   "outputs": [
    {
     "data": {
      "image/png": "[encoded data removed]",
      "text/plain": [
       "<Figure size 936x936 with 25 Axes>"
      ]
     },
     "metadata": {
      "needs_background": "light"
     },
     "output_type": "display_data"
    }
   ],
   "source": [
    "df.hist(layout=(5,5), figsize=(13, 13))\n",
    "plt.show()"
   ]
  },
  {
   "cell_type": "code",
   "execution_count": 7,
   "id": "f6f4c953-8d8b-4783-95ad-f6990ea20560",
   "metadata": {},
   "outputs": [
    {
     "data": {
      "text/plain": [
       "CRIM       20\n",
       "ZN         20\n",
       "INDUS      20\n",
       "CHAS       20\n",
       "NOX         0\n",
       "RM          0\n",
       "AGE        20\n",
       "DIS         0\n",
       "RAD         0\n",
       "TAX         0\n",
       "PTRATIO     0\n",
       "LSTAT      20\n",
       "MEDV        0\n",
       "dtype: int64"
      ]
     },
     "execution_count": 7,
     "metadata": {},
     "output_type": "execute_result"
    }
   ],
   "source": [
    "# Check null data\n",
    "df.isna().sum()"
   ]
  },
  {
   "cell_type": "markdown",
   "id": "df750e5f-d905-49fe-a3d1-dd8b667080fc",
   "metadata": {},
   "source": [
    "_____\n",
    "# [2] Data Preprocessing \n",
    "**NOTE:** As this is already a refined dataset we skip steps\n",
    "- Cleaning\n",
    "- Missing data\n",
    "- Scaling"
   ]
  },
  {
   "cell_type": "code",
   "execution_count": 8,
   "id": "483b527e-3dc4-43a9-9019-44abfcb2b708",
   "metadata": {},
   "outputs": [],
   "source": [
    "# drop the rows with missing values because we have enough data in our dataset. \n",
    "# missing = 20\n",
    "df.dropna(inplace=True)"
   ]
  },
  {
   "cell_type": "code",
   "execution_count": 9,
   "id": "17df0283-0b91-43ed-8a51-bf776cead607",
   "metadata": {},
   "outputs": [
    {
     "data": {
      "text/plain": [
       "CRIM       0\n",
       "ZN         0\n",
       "INDUS      0\n",
       "CHAS       0\n",
       "NOX        0\n",
       "RM         0\n",
       "AGE        0\n",
       "DIS        0\n",
       "RAD        0\n",
       "TAX        0\n",
       "PTRATIO    0\n",
       "LSTAT      0\n",
       "MEDV       0\n",
       "dtype: int64"
      ]
     },
     "execution_count": 9,
     "metadata": {},
     "output_type": "execute_result"
    }
   ],
   "source": [
    "# data null check\n",
    "df.isna().sum()"
   ]
  },
  {
   "cell_type": "code",
   "execution_count": 10,
   "id": "cb550303-dd1b-485a-94c7-3da1b7640c81",
   "metadata": {},
   "outputs": [],
   "source": [
    "# Keep all data except for the assigned Target\n",
    "X = df.drop(columns=[\"MEDV\"])\n",
    "Y = df[\"MEDV\"] # Target/predict Feature"
   ]
  },
  {
   "cell_type": "code",
   "execution_count": 11,
   "id": "53424d95-052f-4ff1-b9d5-bbeb7feea189",
   "metadata": {},
   "outputs": [
    {
     "data": {
      "text/html": [
       "<div>\n",
       "<style scoped>\n",
       "    .dataframe tbody tr th:only-of-type {\n",
       "        vertical-align: middle;\n",
       "    }\n",
       "\n",
       "    .dataframe tbody tr th {\n",
       "        vertical-align: top;\n",
       "    }\n",
       "\n",
       "    .dataframe thead th {\n",
       "        text-align: right;\n",
       "    }\n",
       "</style>\n",
       "<table border=\"1\" class=\"dataframe\">\n",
       "  <thead>\n",
       "    <tr style=\"text-align: right;\">\n",
       "      <th></th>\n",
       "      <th>CRIM</th>\n",
       "      <th>ZN</th>\n",
       "      <th>INDUS</th>\n",
       "      <th>CHAS</th>\n",
       "      <th>NOX</th>\n",
       "      <th>RM</th>\n",
       "      <th>AGE</th>\n",
       "      <th>DIS</th>\n",
       "      <th>RAD</th>\n",
       "      <th>TAX</th>\n",
       "      <th>PTRATIO</th>\n",
       "      <th>LSTAT</th>\n",
       "    </tr>\n",
       "  </thead>\n",
       "  <tbody>\n",
       "    <tr>\n",
       "      <th>0</th>\n",
       "      <td>0.00632</td>\n",
       "      <td>18.0</td>\n",
       "      <td>2.31</td>\n",
       "      <td>0.0</td>\n",
       "      <td>0.538</td>\n",
       "      <td>6.575</td>\n",
       "      <td>65.2</td>\n",
       "      <td>4.0900</td>\n",
       "      <td>1</td>\n",
       "      <td>296</td>\n",
       "      <td>15.3</td>\n",
       "      <td>4.98</td>\n",
       "    </tr>\n",
       "    <tr>\n",
       "      <th>1</th>\n",
       "      <td>0.02731</td>\n",
       "      <td>0.0</td>\n",
       "      <td>7.07</td>\n",
       "      <td>0.0</td>\n",
       "      <td>0.469</td>\n",
       "      <td>6.421</td>\n",
       "      <td>78.9</td>\n",
       "      <td>4.9671</td>\n",
       "      <td>2</td>\n",
       "      <td>242</td>\n",
       "      <td>17.8</td>\n",
       "      <td>9.14</td>\n",
       "    </tr>\n",
       "    <tr>\n",
       "      <th>2</th>\n",
       "      <td>0.02729</td>\n",
       "      <td>0.0</td>\n",
       "      <td>7.07</td>\n",
       "      <td>0.0</td>\n",
       "      <td>0.469</td>\n",
       "      <td>7.185</td>\n",
       "      <td>61.1</td>\n",
       "      <td>4.9671</td>\n",
       "      <td>2</td>\n",
       "      <td>242</td>\n",
       "      <td>17.8</td>\n",
       "      <td>4.03</td>\n",
       "    </tr>\n",
       "    <tr>\n",
       "      <th>3</th>\n",
       "      <td>0.03237</td>\n",
       "      <td>0.0</td>\n",
       "      <td>2.18</td>\n",
       "      <td>0.0</td>\n",
       "      <td>0.458</td>\n",
       "      <td>6.998</td>\n",
       "      <td>45.8</td>\n",
       "      <td>6.0622</td>\n",
       "      <td>3</td>\n",
       "      <td>222</td>\n",
       "      <td>18.7</td>\n",
       "      <td>2.94</td>\n",
       "    </tr>\n",
       "    <tr>\n",
       "      <th>5</th>\n",
       "      <td>0.02985</td>\n",
       "      <td>0.0</td>\n",
       "      <td>2.18</td>\n",
       "      <td>0.0</td>\n",
       "      <td>0.458</td>\n",
       "      <td>6.430</td>\n",
       "      <td>58.7</td>\n",
       "      <td>6.0622</td>\n",
       "      <td>3</td>\n",
       "      <td>222</td>\n",
       "      <td>18.7</td>\n",
       "      <td>5.21</td>\n",
       "    </tr>\n",
       "  </tbody>\n",
       "</table>\n",
       "</div>"
      ],
      "text/plain": [
       "      CRIM    ZN  INDUS  CHAS    NOX     RM   AGE     DIS  RAD  TAX  PTRATIO  \\\n",
       "0  0.00632  18.0   2.31   0.0  0.538  6.575  65.2  4.0900    1  296     15.3   \n",
       "1  0.02731   0.0   7.07   0.0  0.469  6.421  78.9  4.9671    2  242     17.8   \n",
       "2  0.02729   0.0   7.07   0.0  0.469  7.185  61.1  4.9671    2  242     17.8   \n",
       "3  0.03237   0.0   2.18   0.0  0.458  6.998  45.8  6.0622    3  222     18.7   \n",
       "5  0.02985   0.0   2.18   0.0  0.458  6.430  58.7  6.0622    3  222     18.7   \n",
       "\n",
       "   LSTAT  \n",
       "0   4.98  \n",
       "1   9.14  \n",
       "2   4.03  \n",
       "3   2.94  \n",
       "5   5.21  "
      ]
     },
     "execution_count": 11,
     "metadata": {},
     "output_type": "execute_result"
    }
   ],
   "source": [
    "X.head()"
   ]
  },
  {
   "cell_type": "code",
   "execution_count": 12,
   "id": "3218b7f1-8d82-4221-bd4c-2cbed8f06fbc",
   "metadata": {},
   "outputs": [
    {
     "data": {
      "text/plain": [
       "0    24.0\n",
       "1    21.6\n",
       "2    34.7\n",
       "3    33.4\n",
       "5    28.7\n",
       "Name: MEDV, dtype: float64"
      ]
     },
     "execution_count": 12,
     "metadata": {},
     "output_type": "execute_result"
    }
   ],
   "source": [
    "# MEDV= Median value of owner-occupied homes in $1000\n",
    "Y.head()"
   ]
  },
  {
   "cell_type": "markdown",
   "id": "9a14e3f3-2923-4504-a9cc-6ce0037abe79",
   "metadata": {},
   "source": [
    "# [3] Creating train and test dataset\n"
   ]
  },
  {
   "cell_type": "code",
   "execution_count": 13,
   "id": "c7b061c9-4f5d-4fc0-b529-e11612b3153c",
   "metadata": {},
   "outputs": [],
   "source": [
    "X_train, X_test, Y_train, Y_test = train_test_split(X, Y,\n",
    "                                                    test_size=.2, # ratio of the testing dataset\n",
    "                                                    random_state=1) # ensures that we obtain the same splits"
   ]
  },
  {
   "cell_type": "markdown",
   "id": "6cbe89f3-db23-42b5-b578-549e659d6042",
   "metadata": {},
   "source": [
    "_______\n",
    "# [4] Model Selection\n",
    "\n",
    "### Regression Trees \n",
    "The important parameters of `DecisionTreeRegressor` are:\n",
    "- `criterion`: {\"mse\", \"friedman_mse\", \"mae\", \"poisson\"} - The function used to measure error\n",
    "\n",
    "- `max_depth` - The max depth the tree can be\n",
    "\n",
    "- `min_samples_split` - The minimum number of samples required to split a node\n",
    "\n",
    "- `min_samples_leaf` - The minimum number of samples that a leaf can contain\n",
    "\n",
    "- `max_features`: {\"auto\", \"sqrt\", \"log2\"} - The number of feature we examine looking for the best one, used to speed up training"
   ]
  },
  {
   "cell_type": "code",
   "execution_count": 14,
   "id": "0e5fc525-d5ac-494b-9930-0f83a7c19259",
   "metadata": {},
   "outputs": [],
   "source": [
    "# creating a DecisionTreeRegressor object, \n",
    "# setting the criterion parameter to mse for Mean Squared Error\n",
    "regression_tree = DecisionTreeRegressor(criterion = \"mse\")"
   ]
  },
  {
   "cell_type": "markdown",
   "id": "cfa28ab8-c189-4365-b56f-52c8b00844f4",
   "metadata": {},
   "source": [
    "_______\n",
    "# [5] Model Training"
   ]
  },
  {
   "cell_type": "code",
   "execution_count": 15,
   "id": "3b73df75-73dc-48ef-a5b7-6ade5a5d5110",
   "metadata": {},
   "outputs": [
    {
     "data": {
      "text/plain": [
       "DecisionTreeRegressor()"
      ]
     },
     "execution_count": 15,
     "metadata": {},
     "output_type": "execute_result"
    }
   ],
   "source": [
    "regression_tree.fit(X_train, Y_train)"
   ]
  },
  {
   "cell_type": "markdown",
   "id": "aba2ec4d-7512-492f-a4ca-c942136ac25a",
   "metadata": {},
   "source": [
    "____\n",
    "# [6] Model Evaluation"
   ]
  },
  {
   "cell_type": "code",
   "execution_count": 16,
   "id": "56041959-06a1-47cc-9390-6587b4131002",
   "metadata": {},
   "outputs": [
    {
     "data": {
      "text/plain": [
       "0.8454764278961551"
      ]
     },
     "execution_count": 16,
     "metadata": {},
     "output_type": "execute_result"
    }
   ],
   "source": [
    "# score method of the DecisionTreeRegressor object providing our testing data, \n",
    "# this number is the  𝑅2 value which indicates the coefficient of determination\n",
    "regression_tree.score(X_test, Y_test)"
   ]
  },
  {
   "cell_type": "code",
   "execution_count": 17,
   "id": "9e9bd877-7795-4c4b-9ad5-8af54830bab3",
   "metadata": {},
   "outputs": [
    {
     "name": "stdout",
     "output_type": "stream",
     "text": [
      "$ 2727.848101265823\n"
     ]
    }
   ],
   "source": [
    "# find the average error in our testing set which is the average error in median home value prediction\n",
    "prediction = regression_tree.predict(X_test)\n",
    "print(\"$\",(prediction - Y_test).abs().mean()*1000)"
   ]
  },
  {
   "cell_type": "markdown",
   "id": "edd31a8a-cd28-43ac-9845-c8b9fa058506",
   "metadata": {},
   "source": [
    "<details><summary>Click here mae method</summary>\n",
    "\n",
    "```python\n",
    "regression_tree = DecisionTreeRegressor(criterion = \"mae\") #mean absoulte error\n",
    "regression_tree.fit(X_train, Y_train) #model training\n",
    "\n",
    "print(regression_tree.score(X_test, Y_test))\n",
    "\n",
    "prediction = regression_tree.predict(X_test) # evaluation\n",
    "print(\"$\",(prediction - Y_test).abs().mean()*1000)\n",
    "```\n",
    "</details>"
   ]
  },
  {
   "cell_type": "markdown",
   "id": "f907ddb2-748d-43b1-88f8-7088c2f7f63e",
   "metadata": {},
   "source": [
    "_____\n",
    "# Visualize Decision Regression Tree"
   ]
  },
  {
   "cell_type": "code",
   "execution_count": 18,
   "id": "dc3fcfe1-e6f9-4222-8249-4b456e1c266f",
   "metadata": {},
   "outputs": [
    {
     "data": {
      "image/png": "[encoded data removed]",
      "text/plain": [
       "<Figure size 720x432 with 1 Axes>"
      ]
     },
     "metadata": {
      "needs_background": "light"
     },
     "output_type": "display_data"
    }
   ],
   "source": [
    "# Set the figure size\n",
    "plt.figure(figsize=(10, 6)) \n",
    "\n",
    "tree.plot_tree(regression_tree)\n",
    "plt.show()"
   ]
  }
 ],
 "metadata": {
  "kernelspec": {
   "display_name": "Python 3 (ipykernel)",
   "language": "python",
   "name": "python3"
  },
  "language_info": {
   "codemirror_mode": {
    "name": "ipython",
    "version": 3
   },
   "file_extension": ".py",
   "mimetype": "text/x-python",
   "name": "python",
   "nbconvert_exporter": "python",
   "pygments_lexer": "ipython3",
   "version": "3.8.8"
  }
 },
 "nbformat": 4,
 "nbformat_minor": 5
}
